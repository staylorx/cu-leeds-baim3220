{
 "cells": [
  {
   "cell_type": "markdown",
   "metadata": {},
   "source": [
    "# Week 5 Homework\n",
    "## Practice with lists and functions"
   ]
  },
  {
   "cell_type": "markdown",
   "metadata": {},
   "source": [
    "## Problem 5.1\n",
    "\n",
    "Rewrite the Magic 8 Ball program  (shown below) using a list to store the possible responses. This is copied directly from the book. Run it in the cell below to get a feel for what it does."
   ]
  },
  {
   "cell_type": "code",
   "execution_count": 1,
   "metadata": {},
   "outputs": [
    {
     "name": "stdout",
     "output_type": "stream",
     "text": [
      "It is decidedly so\n"
     ]
    }
   ],
   "source": [
    "# Directly from the Sweigart book, chapter 3\n",
    "# This is the original code.\n",
    "import random\n",
    "def getAnswer(answerNumber):\n",
    "    if answerNumber == 1:\n",
    "       return 'It is certain'\n",
    "    elif answerNumber == 2:\n",
    "       return 'It is decidedly so'\n",
    "    elif answerNumber == 3:\n",
    "       return 'Yes'\n",
    "    elif answerNumber == 4:\n",
    "       return 'Reply hazy try again'\n",
    "    elif answerNumber == 5:\n",
    "       return 'Ask again later'\n",
    "    elif answerNumber == 6:\n",
    "       return 'Concentrate and ask again'\n",
    "    elif answerNumber == 7:\n",
    "       return 'My reply is no'\n",
    "    elif answerNumber == 8:\n",
    "       return 'Outlook not so good'\n",
    "    elif answerNumber == 9:\n",
    "       return 'Very doubtful'\n",
    "\n",
    "r = random.randint(1, 9)\n",
    "fortune = getAnswer(r)\n",
    "print(fortune)"
   ]
  },
  {
   "cell_type": "code",
   "execution_count": null,
   "metadata": {},
   "outputs": [],
   "source": []
  },
  {
   "cell_type": "markdown",
   "metadata": {},
   "source": [
    "## Problem 5.2\n",
    "Write a function that takes a list value as an argument and does the following:\n",
    "1. Prints list items to the screen with all the items in the list separated by a comma and a space except for the last item\n",
    "2. Insert, *and*, before the last item in the list\n",
    "\n",
    "For example:\n",
    "\n",
    "`list = ['apples','bananas', 'tofu', 'cats']`\n",
    "\n",
    "Your function would take, `list`, as a parameter:\n",
    "\n",
    "`listFunction(list)`\n",
    "\n",
    "And print in the following format:\n",
    "\n",
    "`apples, bananas, tofu, and cats`\n",
    "\n",
    "Your function should be able to take any list with any number of items and print as formated above. "
   ]
  },
  {
   "cell_type": "markdown",
   "metadata": {},
   "source": [
    "### Define your function the next cell"
   ]
  },
  {
   "cell_type": "code",
   "execution_count": null,
   "metadata": {},
   "outputs": [],
   "source": []
  },
  {
   "cell_type": "markdown",
   "metadata": {},
   "source": [
    "### Call you function in the next and pass the example list"
   ]
  },
  {
   "cell_type": "code",
   "execution_count": null,
   "metadata": {},
   "outputs": [],
   "source": []
  }
 ],
 "metadata": {
  "kernelspec": {
   "display_name": "Python 3 (ipykernel)",
   "language": "python",
   "name": "python3"
  },
  "language_info": {
   "codemirror_mode": {
    "name": "ipython",
    "version": 3
   },
   "file_extension": ".py",
   "mimetype": "text/x-python",
   "name": "python",
   "nbconvert_exporter": "python",
   "pygments_lexer": "ipython3",
   "version": "3.8.12"
  }
 },
 "nbformat": 4,
 "nbformat_minor": 2
}
