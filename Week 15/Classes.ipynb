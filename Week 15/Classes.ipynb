{
 "cells": [
  {
   "cell_type": "markdown",
   "id": "challenging-oklahoma",
   "metadata": {},
   "source": [
    "# Classes\n",
    "\n",
    "Python may be used in an object-oriented model. [1] In the example below I create a \"base\" (or super) class called Canine, then create individual Classes (Dog and Wolf) that are said to \"inherit\" from the super class.\n",
    "\n",
    "What we've learned as functions, when encapsulated within a class, we call methods. Any other variable reference in a class is known as a property.\n",
    "\n",
    "For instance, if the number_of_wheels is a property of a class called Vehicle, I might derive sub-classes called Trike (with number_of_wheels == 3), and Car (with number_of_wheels >= 4). \n",
    "\n",
    "Think of classes as blueprints for creating -- we say instantiating -- unique instances of a a thing in memory. In the examples below, `fido = Dog(\"Fido\")`, fido is a _variable_ that holds/points-to the _instance_ of the _class_ Dog.\n",
    "\n",
    "Does Dog inherit properties and methods from the Canine class? Yes. The `__init__` method in a class is also known as a \"constructor\", and can be thought of \"starting-up\" (or constructing) the instance from the blueprint/class. Calling super() calls the start-up process on the inherited class. E.g., calling `super()` in the Dog class, first runs the `__init__` in Canine, then runs the rest of the Python in the __init__ in Dog.\n",
    "\n",
    "The following examples are more or less taken from the Python tutorial docs. [2]\n",
    "\n",
    "[1] https://en.wikipedia.org/wiki/Object-oriented_programming\n",
    "\n",
    "[2] https://docs.python.org/3/tutorial/classes.html"
   ]
  },
  {
   "cell_type": "code",
   "execution_count": 1,
   "id": "inner-salon",
   "metadata": {},
   "outputs": [],
   "source": [
    "class Canine:\n",
    "    \"\"\"\n",
    "    a dog-like Canid animal in the subfamily Caninae\n",
    "        -- https://en.wikipedia.org/wiki/Canine\n",
    "    \"\"\"\n",
    "    \n",
    "    kind = \"canine\"  # class variable shared by ALL instances\n",
    "\n",
    "    def __init__(self, name):\n",
    "        self.name = name  # instance variable unique to EACH instance"
   ]
  },
  {
   "cell_type": "code",
   "execution_count": 2,
   "id": "circular-serial",
   "metadata": {},
   "outputs": [],
   "source": [
    "class Dog(Canine):\n",
    "    \"\"\"\n",
    "    A dog is a specific kind of Canine.\n",
    "    \"\"\"\n",
    "\n",
    "    kind = \"tame\"\n",
    "\n",
    "    def __init__(self, name):\n",
    "        super()  # call the __init__ of the inhereted class.\n",
    "        self.name = name  # instance variable unique to each instance\n",
    "        self.tricks = []\n",
    "\n",
    "    def add_trick(self, trick):\n",
    "        self.tricks.append(trick)\n",
    "\n",
    "    def greet(self):\n",
    "        print(\"Bark!\")"
   ]
  },
  {
   "cell_type": "code",
   "execution_count": 3,
   "id": "varied-contents",
   "metadata": {},
   "outputs": [],
   "source": [
    "class Wolf(Canine):\n",
    "    \"\"\"\n",
    "    A wolf is a specific kind of Canine.\"\"\"\n",
    "\n",
    "    kind = \"wild\"\n",
    "\n",
    "    def __init__(self, name):\n",
    "        super()\n",
    "        self.name = name  # instance variable unique to each instance\n",
    "\n",
    "    def greet(self):\n",
    "        print(\"Howl!\")"
   ]
  },
  {
   "cell_type": "code",
   "execution_count": 4,
   "id": "robust-fiction",
   "metadata": {},
   "outputs": [
    {
     "name": "stdout",
     "output_type": "stream",
     "text": [
      "Bark!\n"
     ]
    },
    {
     "data": {
      "text/plain": [
       "['roll over', 'play fetch']"
      ]
     },
     "execution_count": 4,
     "metadata": {},
     "output_type": "execute_result"
    }
   ],
   "source": [
    "# Create an instance of Dog, and assign it to variable named fido\n",
    "fido = Dog(\"Fido\")\n",
    "fido.add_trick(\"roll over\")\n",
    "fido.add_trick(\"play fetch\")\n",
    "\n",
    "fido.greet()\n",
    "\n",
    "# Note this isn't calling a method, it's just accessing the property, \n",
    "# and using Notebook's dynamic cell execution to show the results\n",
    "fido.tricks"
   ]
  },
  {
   "cell_type": "code",
   "execution_count": 5,
   "id": "fitted-percentage",
   "metadata": {},
   "outputs": [
    {
     "data": {
      "text/plain": [
       "['play dead']"
      ]
     },
     "execution_count": 5,
     "metadata": {},
     "output_type": "execute_result"
    }
   ],
   "source": [
    "# Create an separate instance of Dog, and assign it to different variable named buddy\n",
    "buddy = Dog(\"Buddy\")\n",
    "buddy.add_trick(\"play dead\")\n",
    "\n",
    "assert buddy.kind == \"tame\"\n",
    "buddy.tricks"
   ]
  },
  {
   "cell_type": "code",
   "execution_count": 6,
   "id": "infrared-payment",
   "metadata": {},
   "outputs": [
    {
     "name": "stdout",
     "output_type": "stream",
     "text": [
      "Howl!\n"
     ]
    }
   ],
   "source": [
    "# Note that the Wolf class doesn't have any tricks to it.\n",
    "amaruq = Wolf(\"Amaruq\")\n",
    "\n",
    "assert amaruq.kind == \"wild\"\n",
    "amaruq.greet()"
   ]
  },
  {
   "cell_type": "code",
   "execution_count": 7,
   "id": "better-census",
   "metadata": {},
   "outputs": [
    {
     "name": "stdout",
     "output_type": "stream",
     "text": [
      "Help on Wolf in module __main__ object:\n",
      "\n",
      "class Wolf(Canine)\n",
      " |  Wolf(name)\n",
      " |  \n",
      " |  A wolf is a specific kind of Canine.\n",
      " |  \n",
      " |  Method resolution order:\n",
      " |      Wolf\n",
      " |      Canine\n",
      " |      builtins.object\n",
      " |  \n",
      " |  Methods defined here:\n",
      " |  \n",
      " |  __init__(self, name)\n",
      " |      Initialize self.  See help(type(self)) for accurate signature.\n",
      " |  \n",
      " |  greet(self)\n",
      " |  \n",
      " |  ----------------------------------------------------------------------\n",
      " |  Data and other attributes defined here:\n",
      " |  \n",
      " |  kind = 'wild'\n",
      " |  \n",
      " |  ----------------------------------------------------------------------\n",
      " |  Data descriptors inherited from Canine:\n",
      " |  \n",
      " |  __dict__\n",
      " |      dictionary for instance variables (if defined)\n",
      " |  \n",
      " |  __weakref__\n",
      " |      list of weak references to the object (if defined)\n",
      "\n"
     ]
    }
   ],
   "source": [
    "# It's not used often, but lots of Python is self-documenting. Sort of.\n",
    "#\n",
    "# Note the method resolution order to see in which order classes are organized.\n",
    "help(amaruq)"
   ]
  },
  {
   "cell_type": "code",
   "execution_count": null,
   "id": "complicated-plymouth",
   "metadata": {},
   "outputs": [],
   "source": []
  }
 ],
 "metadata": {
  "kernelspec": {
   "display_name": "Python 3 (ipykernel)",
   "language": "python",
   "name": "python3"
  },
  "language_info": {
   "codemirror_mode": {
    "name": "ipython",
    "version": 3
   },
   "file_extension": ".py",
   "mimetype": "text/x-python",
   "name": "python",
   "nbconvert_exporter": "python",
   "pygments_lexer": "ipython3",
   "version": "3.8.12"
  }
 },
 "nbformat": 4,
 "nbformat_minor": 5
}
