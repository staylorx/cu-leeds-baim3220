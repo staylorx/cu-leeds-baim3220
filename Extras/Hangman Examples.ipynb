{
 "cells": [
  {
   "cell_type": "code",
   "execution_count": 1,
   "id": "38fc86e7",
   "metadata": {},
   "outputs": [
    {
     "data": {
      "application/javascript": [
       "\n",
       "            setTimeout(function() {\n",
       "                var nbb_cell_id = 1;\n",
       "                var nbb_unformatted_code = \"%load_ext nb_black\";\n",
       "                var nbb_formatted_code = \"%load_ext nb_black\";\n",
       "                var nbb_cells = Jupyter.notebook.get_cells();\n",
       "                for (var i = 0; i < nbb_cells.length; ++i) {\n",
       "                    if (nbb_cells[i].input_prompt_number == nbb_cell_id) {\n",
       "                        if (nbb_cells[i].get_text() == nbb_unformatted_code) {\n",
       "                             nbb_cells[i].set_text(nbb_formatted_code);\n",
       "                        }\n",
       "                        break;\n",
       "                    }\n",
       "                }\n",
       "            }, 500);\n",
       "            "
      ],
      "text/plain": [
       "<IPython.core.display.Javascript object>"
      ]
     },
     "metadata": {},
     "output_type": "display_data"
    }
   ],
   "source": [
    "%load_ext nb_black"
   ]
  },
  {
   "cell_type": "code",
   "execution_count": 2,
   "id": "e73e0377",
   "metadata": {},
   "outputs": [
    {
     "data": {
      "application/javascript": [
       "\n",
       "            setTimeout(function() {\n",
       "                var nbb_cell_id = 2;\n",
       "                var nbb_unformatted_code = \"# Hangman Examples\";\n",
       "                var nbb_formatted_code = \"# Hangman Examples\";\n",
       "                var nbb_cells = Jupyter.notebook.get_cells();\n",
       "                for (var i = 0; i < nbb_cells.length; ++i) {\n",
       "                    if (nbb_cells[i].input_prompt_number == nbb_cell_id) {\n",
       "                        if (nbb_cells[i].get_text() == nbb_unformatted_code) {\n",
       "                             nbb_cells[i].set_text(nbb_formatted_code);\n",
       "                        }\n",
       "                        break;\n",
       "                    }\n",
       "                }\n",
       "            }, 500);\n",
       "            "
      ],
      "text/plain": [
       "<IPython.core.display.Javascript object>"
      ]
     },
     "metadata": {},
     "output_type": "display_data"
    }
   ],
   "source": [
    "# Hangman Examples"
   ]
  },
  {
   "cell_type": "code",
   "execution_count": 19,
   "id": "01712114",
   "metadata": {},
   "outputs": [
    {
     "data": {
      "application/javascript": [
       "\n",
       "            setTimeout(function() {\n",
       "                var nbb_cell_id = 19;\n",
       "                var nbb_unformatted_code = \"import pandas as pd\";\n",
       "                var nbb_formatted_code = \"import pandas as pd\";\n",
       "                var nbb_cells = Jupyter.notebook.get_cells();\n",
       "                for (var i = 0; i < nbb_cells.length; ++i) {\n",
       "                    if (nbb_cells[i].input_prompt_number == nbb_cell_id) {\n",
       "                        if (nbb_cells[i].get_text() == nbb_unformatted_code) {\n",
       "                             nbb_cells[i].set_text(nbb_formatted_code);\n",
       "                        }\n",
       "                        break;\n",
       "                    }\n",
       "                }\n",
       "            }, 500);\n",
       "            "
      ],
      "text/plain": [
       "<IPython.core.display.Javascript object>"
      ]
     },
     "metadata": {},
     "output_type": "display_data"
    }
   ],
   "source": [
    "import pandas as pd"
   ]
  },
  {
   "cell_type": "markdown",
   "id": "ddb9447c",
   "metadata": {},
   "source": [
    "## An example using a straight function"
   ]
  },
  {
   "cell_type": "code",
   "execution_count": 3,
   "id": "502935b4",
   "metadata": {},
   "outputs": [
    {
     "name": "stdout",
     "output_type": "stream",
     "text": [
      "\"B _ _ _ _ _\"... 5 letters left.\n",
      "\"B a _ a _ a\"... 2 letters left.\n",
      "\"B a n a n a\"... 0 letters left.\n"
     ]
    },
    {
     "data": {
      "application/javascript": [
       "\n",
       "            setTimeout(function() {\n",
       "                var nbb_cell_id = 3;\n",
       "                var nbb_unformatted_code = \"def guess_letter(my_word, displayed_word, guessed_letter):\\n    # then loop through the word\\n    for i in range(0, len(my_word)):\\n        if my_word[i].lower() == guessed_letter.lower():\\n            # show the letter in the list of underscores\\n            # notice how I'm using the letter in my_word instead of guessed_letter\\n            displayed_word[i] = my_word[i]\\n\\n    return displayed_word, displayed_word.count(\\\"_\\\")\\n\\n\\nwhats_my_word = \\\"Banana\\\"\\n# clever bit here, but you could use a loop to do the same thing\\ndisplayed_word = [\\\"_\\\"] * len(whats_my_word)\\n\\n# this just screams for a while loop, yes? Q. What would you watch to exit the loop?\\n# Answer: chars_left = 0\\nlatest_guess, chars_left = guess_letter(whats_my_word, displayed_word, \\\"B\\\")\\nprint(f\\\"\\\\\\\"{' '.join(latest_guess)}\\\\\\\"... {chars_left} letters left.\\\")\\n# call the function again, handing in the latest_guess variable\\nlatest_guess, chars_left = guess_letter(whats_my_word, latest_guess, \\\"A\\\")\\nprint(f\\\"\\\\\\\"{' '.join(latest_guess)}\\\\\\\"... {chars_left} letters left.\\\")\\n# call the function again, handing in the latest_guess variable\\nlatest_guess, chars_left = guess_letter(whats_my_word, latest_guess, \\\"n\\\")\\nprint(f\\\"\\\\\\\"{' '.join(latest_guess)}\\\\\\\"... {chars_left} letters left.\\\")\";\n",
       "                var nbb_formatted_code = \"def guess_letter(my_word, displayed_word, guessed_letter):\\n    # then loop through the word\\n    for i in range(0, len(my_word)):\\n        if my_word[i].lower() == guessed_letter.lower():\\n            # show the letter in the list of underscores\\n            # notice how I'm using the letter in my_word instead of guessed_letter\\n            displayed_word[i] = my_word[i]\\n\\n    return displayed_word, displayed_word.count(\\\"_\\\")\\n\\n\\nwhats_my_word = \\\"Banana\\\"\\n# clever bit here, but you could use a loop to do the same thing\\ndisplayed_word = [\\\"_\\\"] * len(whats_my_word)\\n\\n# this just screams for a while loop, yes? Q. What would you watch to exit the loop?\\n# Answer: chars_left = 0\\nlatest_guess, chars_left = guess_letter(whats_my_word, displayed_word, \\\"B\\\")\\nprint(f\\\"\\\\\\\"{' '.join(latest_guess)}\\\\\\\"... {chars_left} letters left.\\\")\\n# call the function again, handing in the latest_guess variable\\nlatest_guess, chars_left = guess_letter(whats_my_word, latest_guess, \\\"A\\\")\\nprint(f\\\"\\\\\\\"{' '.join(latest_guess)}\\\\\\\"... {chars_left} letters left.\\\")\\n# call the function again, handing in the latest_guess variable\\nlatest_guess, chars_left = guess_letter(whats_my_word, latest_guess, \\\"n\\\")\\nprint(f\\\"\\\\\\\"{' '.join(latest_guess)}\\\\\\\"... {chars_left} letters left.\\\")\";\n",
       "                var nbb_cells = Jupyter.notebook.get_cells();\n",
       "                for (var i = 0; i < nbb_cells.length; ++i) {\n",
       "                    if (nbb_cells[i].input_prompt_number == nbb_cell_id) {\n",
       "                        if (nbb_cells[i].get_text() == nbb_unformatted_code) {\n",
       "                             nbb_cells[i].set_text(nbb_formatted_code);\n",
       "                        }\n",
       "                        break;\n",
       "                    }\n",
       "                }\n",
       "            }, 500);\n",
       "            "
      ],
      "text/plain": [
       "<IPython.core.display.Javascript object>"
      ]
     },
     "metadata": {},
     "output_type": "display_data"
    }
   ],
   "source": [
    "def guess_letter(my_word, displayed_word, guessed_letter):\n",
    "    # then loop through the word\n",
    "    for i in range(0, len(my_word)):\n",
    "        if my_word[i].lower() == guessed_letter.lower():\n",
    "            # show the letter in the list of underscores\n",
    "            # notice how I'm using the letter in my_word instead of guessed_letter\n",
    "            displayed_word[i] = my_word[i]\n",
    "\n",
    "    return displayed_word, displayed_word.count(\"_\")\n",
    "\n",
    "\n",
    "whats_my_word = \"Banana\"\n",
    "# clever bit here, but you could use a loop to do the same thing\n",
    "displayed_word = [\"_\"] * len(whats_my_word)\n",
    "\n",
    "# this just screams for a while loop, yes? Q. What would you watch to exit the loop?\n",
    "# Answer: chars_left = 0\n",
    "latest_guess, chars_left = guess_letter(whats_my_word, displayed_word, \"B\")\n",
    "print(f\"\\\"{' '.join(latest_guess)}\\\"... {chars_left} letters left.\")\n",
    "# call the function again, handing in the latest_guess variable\n",
    "latest_guess, chars_left = guess_letter(whats_my_word, latest_guess, \"A\")\n",
    "print(f\"\\\"{' '.join(latest_guess)}\\\"... {chars_left} letters left.\")\n",
    "# call the function again, handing in the latest_guess variable\n",
    "latest_guess, chars_left = guess_letter(whats_my_word, latest_guess, \"n\")\n",
    "print(f\"\\\"{' '.join(latest_guess)}\\\"... {chars_left} letters left.\")\n"
   ]
  },
  {
   "cell_type": "markdown",
   "id": "b102f5d3",
   "metadata": {},
   "source": [
    "## Do the same thing with a class"
   ]
  },
  {
   "cell_type": "code",
   "execution_count": 4,
   "id": "417810a3",
   "metadata": {},
   "outputs": [
    {
     "data": {
      "application/javascript": [
       "\n",
       "            setTimeout(function() {\n",
       "                var nbb_cell_id = 4;\n",
       "                var nbb_unformatted_code = \"class DisplayedWord:\\n    def __init__(self, my_word):\\n        # everytime a new instance of DisplayedWord gets created, this runs.\\n        self.my_word = my_word\\n        # quick way to create N-length list of characters\\n        self.displayed_word = [\\\"_\\\"] * len(my_word)\\n        # this only exists to handle cases where my_word actually _has_ underscores\\n        # we could/should guard against this I suppose, but <shrug/>\\n        self.gamed_word = [False] * len(my_word)\\n\\n    def guess(self, letter):\\n        \\\"\\\"\\\"\\n        Takes a letter and checks it against the word.\\n\\n        If there are no empties left, then\\n        \\\"\\\"\\\"\\n        # we want to check each and every letter...\\n        for i in range(0, len(self.my_word)):\\n            # if the lower of the letter is equal to our guess...\\n            if self.my_word[i].lower() == letter.lower():\\n\\n                # replace the letter in the displayed word with the original letter,\\n                # note, _not_ the guessed letter.\\n                self.displayed_word[i] = self.my_word[i]\\n\\n                # update the word game list\\n                self.gamed_word[i] = True\\n\\n        # count the number of non-guessed spaces\\n        non_guessed_letters = len(self.gamed_word) - sum(self.gamed_word)\\n\\n        if non_guessed_letters == 0:\\n            # return True if we've won the whole game,\\n            return True, 0\\n        else:\\n            # otherwise return False, and the letter count left to guess\\n            return False, non_guessed_letters\\n\\n    def __str__(self):\\n        return f\\\"\\\\\\\"{' '.join(self.displayed_word)}\\\\\\\"\\\"\";\n",
       "                var nbb_formatted_code = \"class DisplayedWord:\\n    def __init__(self, my_word):\\n        # everytime a new instance of DisplayedWord gets created, this runs.\\n        self.my_word = my_word\\n        # quick way to create N-length list of characters\\n        self.displayed_word = [\\\"_\\\"] * len(my_word)\\n        # this only exists to handle cases where my_word actually _has_ underscores\\n        # we could/should guard against this I suppose, but <shrug/>\\n        self.gamed_word = [False] * len(my_word)\\n\\n    def guess(self, letter):\\n        \\\"\\\"\\\"\\n        Takes a letter and checks it against the word.\\n\\n        If there are no empties left, then\\n        \\\"\\\"\\\"\\n        # we want to check each and every letter...\\n        for i in range(0, len(self.my_word)):\\n            # if the lower of the letter is equal to our guess...\\n            if self.my_word[i].lower() == letter.lower():\\n\\n                # replace the letter in the displayed word with the original letter,\\n                # note, _not_ the guessed letter.\\n                self.displayed_word[i] = self.my_word[i]\\n\\n                # update the word game list\\n                self.gamed_word[i] = True\\n\\n        # count the number of non-guessed spaces\\n        non_guessed_letters = len(self.gamed_word) - sum(self.gamed_word)\\n\\n        if non_guessed_letters == 0:\\n            # return True if we've won the whole game,\\n            return True, 0\\n        else:\\n            # otherwise return False, and the letter count left to guess\\n            return False, non_guessed_letters\\n\\n    def __str__(self):\\n        return f\\\"\\\\\\\"{' '.join(self.displayed_word)}\\\\\\\"\\\"\";\n",
       "                var nbb_cells = Jupyter.notebook.get_cells();\n",
       "                for (var i = 0; i < nbb_cells.length; ++i) {\n",
       "                    if (nbb_cells[i].input_prompt_number == nbb_cell_id) {\n",
       "                        if (nbb_cells[i].get_text() == nbb_unformatted_code) {\n",
       "                             nbb_cells[i].set_text(nbb_formatted_code);\n",
       "                        }\n",
       "                        break;\n",
       "                    }\n",
       "                }\n",
       "            }, 500);\n",
       "            "
      ],
      "text/plain": [
       "<IPython.core.display.Javascript object>"
      ]
     },
     "metadata": {},
     "output_type": "display_data"
    }
   ],
   "source": [
    "class DisplayedWord:\n",
    "    def __init__(self, my_word):\n",
    "        # everytime a new instance of DisplayedWord gets created, this runs.\n",
    "        self.my_word = my_word\n",
    "        # quick way to create N-length list of characters\n",
    "        self.displayed_word = [\"_\"] * len(my_word)\n",
    "        # this only exists to handle cases where my_word actually _has_ underscores\n",
    "        # we could/should guard against this I suppose, but <shrug/>\n",
    "        self.gamed_word = [False] * len(my_word)\n",
    "\n",
    "    def guess(self, letter):\n",
    "        \"\"\"\n",
    "        Takes a letter and checks it against the word.\n",
    "\n",
    "        If there are no empties left, then\n",
    "        \"\"\"\n",
    "        # we want to check each and every letter...\n",
    "        for i in range(0, len(self.my_word)):\n",
    "            # if the lower of the letter is equal to our guess...\n",
    "            if self.my_word[i].lower() == letter.lower():\n",
    "\n",
    "                # replace the letter in the displayed word with the original letter,\n",
    "                # note, _not_ the guessed letter.\n",
    "                self.displayed_word[i] = self.my_word[i]\n",
    "\n",
    "                # update the word game list\n",
    "                self.gamed_word[i] = True\n",
    "\n",
    "        # count the number of non-guessed spaces\n",
    "        non_guessed_letters = len(self.gamed_word) - sum(self.gamed_word)\n",
    "\n",
    "        if non_guessed_letters == 0:\n",
    "            # return True if we've won the whole game,\n",
    "            return True, 0\n",
    "        else:\n",
    "            # otherwise return False, and the letter count left to guess\n",
    "            return False, non_guessed_letters\n",
    "\n",
    "    def __str__(self):\n",
    "        return f\"\\\"{' '.join(self.displayed_word)}\\\"\""
   ]
  },
  {
   "cell_type": "markdown",
   "id": "cf61c802",
   "metadata": {},
   "source": [
    "## This is the game loop\n",
    "\n",
    "This uses the class implementation but could be just as successful with the function."
   ]
  },
  {
   "cell_type": "code",
   "execution_count": 17,
   "id": "2c4f936f",
   "metadata": {},
   "outputs": [
    {
     "name": "stdout",
     "output_type": "stream",
     "text": [
      "Enter a letter or QUIT to exit: f\n",
      "\"_ _ _ _ _ _\"... 6 letters left. 4 guesses left.\n",
      "Enter a letter or QUIT to exit: h\n",
      "\"_ _ _ _ _ _\"... 6 letters left. 3 guesses left.\n",
      "Enter a letter or QUIT to exit: f\n",
      "\"_ _ _ _ _ _\"... 6 letters left. 2 guesses left.\n",
      "Enter a letter or QUIT to exit: f\n",
      "\"_ _ _ _ _ _\"... 6 letters left. 1 guesses left.\n",
      "Enter a letter or QUIT to exit: F\n",
      "\"_ _ _ _ _ _\"... 6 letters left. 0 guesses left.\n",
      "You ran out of turns.\n",
      "Took 5 guesses.\n"
     ]
    },
    {
     "data": {
      "text/plain": [
       "{'game_number': 1,\n",
       " 'player': 'Steve',\n",
       " 'word': 'Banana',\n",
       " 'quit_early': False,\n",
       " 'guess_count': 5,\n",
       " 'is_winner': False,\n",
       " 'letters_guessed': ['f', 'h', 'f', 'f', 'F']}"
      ]
     },
     "execution_count": 17,
     "metadata": {},
     "output_type": "execute_result"
    },
    {
     "data": {
      "application/javascript": [
       "\n",
       "            setTimeout(function() {\n",
       "                var nbb_cell_id = 17;\n",
       "                var nbb_unformatted_code = \"# a simple game run\\nnew_word = \\\"Banana\\\"\\n\\ndw = DisplayedWord(new_word)\\n\\nis_winning = False\\nguess_count = 0\\ngave_up = False\\nguess_limit = 5\\nguesses_list = []\\nwhile not is_winning and guess_count < guess_limit:\\n    your_guess = input(\\\"Enter a letter or QUIT to exit: \\\")\\n    if \\\"QUIT\\\" in your_guess.upper():\\n        gave_up = True\\n        break\\n    if len(your_guess) != 1:\\n        print(\\\"A single letter guess please.\\\")\\n        continue\\n    guesses_list.append(your_guess)\\n    is_winning, chars_left = dw.guess(your_guess)\\n    guess_count += 1\\n    print(\\n        f\\\"{dw}... {chars_left} letters left. {guess_limit - guess_count} guesses left.\\\"\\n    )\\n\\nif not gave_up_count and not is_winning:\\n    print(\\\"You ran out of turns.\\\")\\n\\nprint(f\\\"Took {guess_count} guesses.\\\")\\n\\ngame_record = {\\n    \\\"game_number\\\": 1,\\n    \\\"player\\\": \\\"Steve\\\",\\n    \\\"word\\\": new_word,\\n    \\\"quit_early\\\": gave_up,\\n    \\\"guess_count\\\": guess_count,\\n    \\\"is_winner\\\": is_winning,\\\"letters_guessed\\\": guesses_list\\n}\\ngame_record\";\n",
       "                var nbb_formatted_code = \"# a simple game run\\nnew_word = \\\"Banana\\\"\\n\\ndw = DisplayedWord(new_word)\\n\\nis_winning = False\\nguess_count = 0\\ngave_up = False\\nguess_limit = 5\\nguesses_list = []\\nwhile not is_winning and guess_count < guess_limit:\\n    your_guess = input(\\\"Enter a letter or QUIT to exit: \\\")\\n    if \\\"QUIT\\\" in your_guess.upper():\\n        gave_up = True\\n        break\\n    if len(your_guess) != 1:\\n        print(\\\"A single letter guess please.\\\")\\n        continue\\n    guesses_list.append(your_guess)\\n    is_winning, chars_left = dw.guess(your_guess)\\n    guess_count += 1\\n    print(\\n        f\\\"{dw}... {chars_left} letters left. {guess_limit - guess_count} guesses left.\\\"\\n    )\\n\\nif not gave_up_count and not is_winning:\\n    print(\\\"You ran out of turns.\\\")\\n\\nprint(f\\\"Took {guess_count} guesses.\\\")\\n\\ngame_record = {\\n    \\\"game_number\\\": 1,\\n    \\\"player\\\": \\\"Steve\\\",\\n    \\\"word\\\": new_word,\\n    \\\"quit_early\\\": gave_up,\\n    \\\"guess_count\\\": guess_count,\\n    \\\"is_winner\\\": is_winning,\\n    \\\"letters_guessed\\\": guesses_list,\\n}\\ngame_record\";\n",
       "                var nbb_cells = Jupyter.notebook.get_cells();\n",
       "                for (var i = 0; i < nbb_cells.length; ++i) {\n",
       "                    if (nbb_cells[i].input_prompt_number == nbb_cell_id) {\n",
       "                        if (nbb_cells[i].get_text() == nbb_unformatted_code) {\n",
       "                             nbb_cells[i].set_text(nbb_formatted_code);\n",
       "                        }\n",
       "                        break;\n",
       "                    }\n",
       "                }\n",
       "            }, 500);\n",
       "            "
      ],
      "text/plain": [
       "<IPython.core.display.Javascript object>"
      ]
     },
     "metadata": {},
     "output_type": "display_data"
    }
   ],
   "source": [
    "# a simple game run\n",
    "new_word = \"Banana\"\n",
    "\n",
    "dw = DisplayedWord(new_word)\n",
    "\n",
    "is_winning = False\n",
    "guess_count = 0\n",
    "gave_up = False\n",
    "guess_limit = 5\n",
    "guesses_list = []\n",
    "while not is_winning and guess_count < guess_limit:\n",
    "    your_guess = input(\"Enter a letter or QUIT to exit: \")\n",
    "    if \"QUIT\" in your_guess.upper():\n",
    "        gave_up = True\n",
    "        break\n",
    "    if len(your_guess) != 1:\n",
    "        print(\"A single letter guess please.\")\n",
    "        continue\n",
    "    guesses_list.append(your_guess)\n",
    "    is_winning, chars_left = dw.guess(your_guess)\n",
    "    guess_count += 1\n",
    "    print(\n",
    "        f\"{dw}... {chars_left} letters left. {guess_limit - guess_count} guesses left.\"\n",
    "    )\n",
    "\n",
    "if not gave_up_count and not is_winning:\n",
    "    print(\"You ran out of turns.\")\n",
    "\n",
    "print(f\"Took {guess_count} guesses.\")\n",
    "\n",
    "# gather as much data as one can from a game round, for later analysis\n",
    "game_record = {\n",
    "    \"game_number\": 1,\n",
    "    \"player\": \"Steve\",\n",
    "    \"word\": new_word,\n",
    "    \"quit_early\": gave_up,\n",
    "    \"guess_count\": guess_count,\n",
    "    \"is_winner\": is_winning,\n",
    "    \"letters_guessed\": guesses_list,\n",
    "}\n",
    "# show the record. This could be saved to a file with a date-time stamp, then later gathered up in bulk for analysis.\n",
    "game_record"
   ]
  },
  {
   "cell_type": "markdown",
   "id": "b26f0230",
   "metadata": {},
   "source": [
    "## Gather game records for later analysis"
   ]
  },
  {
   "cell_type": "code",
   "execution_count": 21,
   "id": "649e0eec",
   "metadata": {},
   "outputs": [
    {
     "data": {
      "text/html": [
       "<div>\n",
       "<style scoped>\n",
       "    .dataframe tbody tr th:only-of-type {\n",
       "        vertical-align: middle;\n",
       "    }\n",
       "\n",
       "    .dataframe tbody tr th {\n",
       "        vertical-align: top;\n",
       "    }\n",
       "\n",
       "    .dataframe thead th {\n",
       "        text-align: right;\n",
       "    }\n",
       "</style>\n",
       "<table border=\"1\" class=\"dataframe\">\n",
       "  <thead>\n",
       "    <tr style=\"text-align: right;\">\n",
       "      <th></th>\n",
       "      <th>game_number</th>\n",
       "      <th>player</th>\n",
       "      <th>word</th>\n",
       "      <th>quit_early</th>\n",
       "      <th>guess_count</th>\n",
       "      <th>is_winner</th>\n",
       "      <th>letters_guessed</th>\n",
       "    </tr>\n",
       "  </thead>\n",
       "  <tbody>\n",
       "    <tr>\n",
       "      <th>0</th>\n",
       "      <td>1</td>\n",
       "      <td>Steve</td>\n",
       "      <td>Banana</td>\n",
       "      <td>False</td>\n",
       "      <td>5</td>\n",
       "      <td>False</td>\n",
       "      <td>[f, h, f, f, F]</td>\n",
       "    </tr>\n",
       "  </tbody>\n",
       "</table>\n",
       "</div>"
      ],
      "text/plain": [
       "   game_number player    word  quit_early  guess_count  is_winner  \\\n",
       "0            1  Steve  Banana       False            5      False   \n",
       "\n",
       "   letters_guessed  \n",
       "0  [f, h, f, f, F]  "
      ]
     },
     "execution_count": 21,
     "metadata": {},
     "output_type": "execute_result"
    },
    {
     "data": {
      "application/javascript": [
       "\n",
       "            setTimeout(function() {\n",
       "                var nbb_cell_id = 21;\n",
       "                var nbb_unformatted_code = \"# play the game N times\\ngame_records = []\\n# for each game append the game_record\\n# e.g., from the above game\\ngame_records.append(game_record)\\n\\n# create a dataframe\\ndf = pd.DataFrame(game_records)\\ndf\";\n",
       "                var nbb_formatted_code = \"# play the game N times\\ngame_records = []\\n# for each game append the game_record\\n# e.g., from the above game\\ngame_records.append(game_record)\\n\\n# create a dataframe\\ndf = pd.DataFrame(game_records)\\ndf\";\n",
       "                var nbb_cells = Jupyter.notebook.get_cells();\n",
       "                for (var i = 0; i < nbb_cells.length; ++i) {\n",
       "                    if (nbb_cells[i].input_prompt_number == nbb_cell_id) {\n",
       "                        if (nbb_cells[i].get_text() == nbb_unformatted_code) {\n",
       "                             nbb_cells[i].set_text(nbb_formatted_code);\n",
       "                        }\n",
       "                        break;\n",
       "                    }\n",
       "                }\n",
       "            }, 500);\n",
       "            "
      ],
      "text/plain": [
       "<IPython.core.display.Javascript object>"
      ]
     },
     "metadata": {},
     "output_type": "display_data"
    }
   ],
   "source": [
    "# play the game N times\n",
    "game_records = []\n",
    "# for each game append the game_record\n",
    "# e.g., from the above game\n",
    "game_records.append(game_record)\n",
    "\n",
    "# create a dataframe\n",
    "df = pd.DataFrame(game_records)\n",
    "df"
   ]
  },
  {
   "cell_type": "code",
   "execution_count": null,
   "id": "a1fd7516",
   "metadata": {},
   "outputs": [],
   "source": []
  },
  {
   "cell_type": "code",
   "execution_count": null,
   "id": "5d14636f",
   "metadata": {},
   "outputs": [],
   "source": []
  }
 ],
 "metadata": {
  "kernelspec": {
   "display_name": "Python 3 (ipykernel)",
   "language": "python",
   "name": "python3"
  },
  "language_info": {
   "codemirror_mode": {
    "name": "ipython",
    "version": 3
   },
   "file_extension": ".py",
   "mimetype": "text/x-python",
   "name": "python",
   "nbconvert_exporter": "python",
   "pygments_lexer": "ipython3",
   "version": "3.8.12"
  }
 },
 "nbformat": 4,
 "nbformat_minor": 5
}
