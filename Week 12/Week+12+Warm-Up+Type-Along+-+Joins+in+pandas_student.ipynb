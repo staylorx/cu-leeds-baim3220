{
 "cells": [
  {
   "cell_type": "markdown",
   "metadata": {},
   "source": [
    "# Week 12 Warm-Up\n",
    "## Joining Tables with `pandas`\n",
    "\n",
    "Reference: [Joining Tables in pandas](https://www.analyticsvidhya.com/blog/2020/02/joins-in-pandas-master-the-different-types-of-joins-in-python/)"
   ]
  },
  {
   "cell_type": "code",
   "execution_count": 1,
   "metadata": {},
   "outputs": [],
   "source": [
    "import pandas as pd"
   ]
  },
  {
   "cell_type": "markdown",
   "metadata": {},
   "source": [
    "### Create the `prod` dataframe for the products"
   ]
  },
  {
   "cell_type": "code",
   "execution_count": 2,
   "metadata": {},
   "outputs": [],
   "source": [
    "prod=pd.DataFrame({\n",
    "    'Product_ID':[101,102,103,104,105,106,107],\n",
    "    'Product_name':['Watch','Bag','Shoes','Smartphone','Books','Oil','Laptop'],\n",
    "    'Category':['Fashion','Fashion','Fashion','Electronics','Study','Grocery','Electronics'],\n",
    "    'Price':[299.0,1350.50,2999.0,14999.0,145.0,110.0,79999.0],\n",
    "    'Seller_City':['Delhi','Mumbai','Chennai','Kolkata','Delhi','Chennai','Bengalore']\n",
    "})"
   ]
  },
  {
   "cell_type": "code",
   "execution_count": 16,
   "metadata": {},
   "outputs": [
    {
     "data": {
      "text/plain": [
       "Product_ID        int64\n",
       "Product_name     object\n",
       "Category         object\n",
       "Price           float64\n",
       "Seller_City      object\n",
       "dtype: object"
      ]
     },
     "execution_count": 16,
     "metadata": {},
     "output_type": "execute_result"
    }
   ],
   "source": [
    "prod.dtypes"
   ]
  },
  {
   "cell_type": "code",
   "execution_count": 3,
   "metadata": {},
   "outputs": [
    {
     "data": {
      "text/html": [
       "<div>\n",
       "<style scoped>\n",
       "    .dataframe tbody tr th:only-of-type {\n",
       "        vertical-align: middle;\n",
       "    }\n",
       "\n",
       "    .dataframe tbody tr th {\n",
       "        vertical-align: top;\n",
       "    }\n",
       "\n",
       "    .dataframe thead th {\n",
       "        text-align: right;\n",
       "    }\n",
       "</style>\n",
       "<table border=\"1\" class=\"dataframe\">\n",
       "  <thead>\n",
       "    <tr style=\"text-align: right;\">\n",
       "      <th></th>\n",
       "      <th>Product_ID</th>\n",
       "      <th>Product_name</th>\n",
       "      <th>Category</th>\n",
       "      <th>Price</th>\n",
       "      <th>Seller_City</th>\n",
       "    </tr>\n",
       "  </thead>\n",
       "  <tbody>\n",
       "    <tr>\n",
       "      <th>0</th>\n",
       "      <td>101</td>\n",
       "      <td>Watch</td>\n",
       "      <td>Fashion</td>\n",
       "      <td>299.0</td>\n",
       "      <td>Delhi</td>\n",
       "    </tr>\n",
       "    <tr>\n",
       "      <th>1</th>\n",
       "      <td>102</td>\n",
       "      <td>Bag</td>\n",
       "      <td>Fashion</td>\n",
       "      <td>1350.5</td>\n",
       "      <td>Mumbai</td>\n",
       "    </tr>\n",
       "    <tr>\n",
       "      <th>2</th>\n",
       "      <td>103</td>\n",
       "      <td>Shoes</td>\n",
       "      <td>Fashion</td>\n",
       "      <td>2999.0</td>\n",
       "      <td>Chennai</td>\n",
       "    </tr>\n",
       "    <tr>\n",
       "      <th>3</th>\n",
       "      <td>104</td>\n",
       "      <td>Smartphone</td>\n",
       "      <td>Electronics</td>\n",
       "      <td>14999.0</td>\n",
       "      <td>Kolkata</td>\n",
       "    </tr>\n",
       "    <tr>\n",
       "      <th>4</th>\n",
       "      <td>105</td>\n",
       "      <td>Books</td>\n",
       "      <td>Study</td>\n",
       "      <td>145.0</td>\n",
       "      <td>Delhi</td>\n",
       "    </tr>\n",
       "  </tbody>\n",
       "</table>\n",
       "</div>"
      ],
      "text/plain": [
       "   Product_ID Product_name     Category    Price Seller_City\n",
       "0         101        Watch      Fashion    299.0       Delhi\n",
       "1         102          Bag      Fashion   1350.5      Mumbai\n",
       "2         103        Shoes      Fashion   2999.0     Chennai\n",
       "3         104   Smartphone  Electronics  14999.0     Kolkata\n",
       "4         105        Books        Study    145.0       Delhi"
      ]
     },
     "execution_count": 3,
     "metadata": {},
     "output_type": "execute_result"
    }
   ],
   "source": [
    "prod.head()"
   ]
  },
  {
   "cell_type": "markdown",
   "metadata": {},
   "source": [
    "### Create the `cust` dataframe for customers"
   ]
  },
  {
   "cell_type": "code",
   "execution_count": 4,
   "metadata": {},
   "outputs": [],
   "source": [
    "cust=pd.DataFrame({\n",
    "    'id':[1,2,3,4,5,6,7,8,9],\n",
    "    'name':['Olivia','Aditya','Cory','Isabell','Dominic','Tyler','Samuel','Daniel','Jeremy'],\n",
    "    'age':[20,25,15,10,30,65,35,18,23],\n",
    "    'Product_ID':[101,0,106,0,103,104,0,0,107],\n",
    "    'Purchased_Product':['Watch','NA','Oil','NA','Shoes','Smartphone','NA','NA','Laptop'],\n",
    "    'City':['Mumbai','Delhi','Bangalore','Chennai','Chennai','Delhi','Kolkata','Delhi','Mumbai']\n",
    "})"
   ]
  },
  {
   "cell_type": "code",
   "execution_count": 5,
   "metadata": {},
   "outputs": [
    {
     "data": {
      "text/html": [
       "<div>\n",
       "<style scoped>\n",
       "    .dataframe tbody tr th:only-of-type {\n",
       "        vertical-align: middle;\n",
       "    }\n",
       "\n",
       "    .dataframe tbody tr th {\n",
       "        vertical-align: top;\n",
       "    }\n",
       "\n",
       "    .dataframe thead th {\n",
       "        text-align: right;\n",
       "    }\n",
       "</style>\n",
       "<table border=\"1\" class=\"dataframe\">\n",
       "  <thead>\n",
       "    <tr style=\"text-align: right;\">\n",
       "      <th></th>\n",
       "      <th>id</th>\n",
       "      <th>name</th>\n",
       "      <th>age</th>\n",
       "      <th>Product_ID</th>\n",
       "      <th>Purchased_Product</th>\n",
       "      <th>City</th>\n",
       "    </tr>\n",
       "  </thead>\n",
       "  <tbody>\n",
       "    <tr>\n",
       "      <th>0</th>\n",
       "      <td>1</td>\n",
       "      <td>Olivia</td>\n",
       "      <td>20</td>\n",
       "      <td>101</td>\n",
       "      <td>Watch</td>\n",
       "      <td>Mumbai</td>\n",
       "    </tr>\n",
       "    <tr>\n",
       "      <th>1</th>\n",
       "      <td>2</td>\n",
       "      <td>Aditya</td>\n",
       "      <td>25</td>\n",
       "      <td>0</td>\n",
       "      <td>NA</td>\n",
       "      <td>Delhi</td>\n",
       "    </tr>\n",
       "    <tr>\n",
       "      <th>2</th>\n",
       "      <td>3</td>\n",
       "      <td>Cory</td>\n",
       "      <td>15</td>\n",
       "      <td>106</td>\n",
       "      <td>Oil</td>\n",
       "      <td>Bangalore</td>\n",
       "    </tr>\n",
       "    <tr>\n",
       "      <th>3</th>\n",
       "      <td>4</td>\n",
       "      <td>Isabell</td>\n",
       "      <td>10</td>\n",
       "      <td>0</td>\n",
       "      <td>NA</td>\n",
       "      <td>Chennai</td>\n",
       "    </tr>\n",
       "    <tr>\n",
       "      <th>4</th>\n",
       "      <td>5</td>\n",
       "      <td>Dominic</td>\n",
       "      <td>30</td>\n",
       "      <td>103</td>\n",
       "      <td>Shoes</td>\n",
       "      <td>Chennai</td>\n",
       "    </tr>\n",
       "  </tbody>\n",
       "</table>\n",
       "</div>"
      ],
      "text/plain": [
       "   id     name  age  Product_ID Purchased_Product       City\n",
       "0   1   Olivia   20         101             Watch     Mumbai\n",
       "1   2   Aditya   25           0                NA      Delhi\n",
       "2   3     Cory   15         106               Oil  Bangalore\n",
       "3   4  Isabell   10           0                NA    Chennai\n",
       "4   5  Dominic   30         103             Shoes    Chennai"
      ]
     },
     "execution_count": 5,
     "metadata": {},
     "output_type": "execute_result"
    }
   ],
   "source": [
    "cust.head()"
   ]
  },
  {
   "cell_type": "code",
   "execution_count": 11,
   "metadata": {},
   "outputs": [
    {
     "data": {
      "text/plain": [
       "Delhi        3\n",
       "Chennai      2\n",
       "Mumbai       2\n",
       "Bangalore    1\n",
       "Kolkata      1\n",
       "Name: City, dtype: int64"
      ]
     },
     "execution_count": 11,
     "metadata": {},
     "output_type": "execute_result"
    }
   ],
   "source": [
    "cust.City.value_counts()"
   ]
  },
  {
   "cell_type": "code",
   "execution_count": 15,
   "metadata": {},
   "outputs": [
    {
     "data": {
      "text/plain": [
       "id                    int64\n",
       "name                 object\n",
       "age                   int64\n",
       "Product_ID            int64\n",
       "Purchased_Product    object\n",
       "City                 object\n",
       "dtype: object"
      ]
     },
     "execution_count": 15,
     "metadata": {},
     "output_type": "execute_result"
    }
   ],
   "source": [
    "cust.dtypes"
   ]
  },
  {
   "cell_type": "markdown",
   "metadata": {},
   "source": [
    "## Jot down some notes about the data\n",
    "\n",
    ">-\n",
    ">-"
   ]
  },
  {
   "cell_type": "markdown",
   "metadata": {},
   "source": [
    "# Q1: Who are all the customers that have purchased an item?\n",
    ">- Show the customer info and product information "
   ]
  },
  {
   "attachments": {
    "InnerJoin_warmup.PNG": {
     "image/png": "[encoded data removed]"
    }
   },
   "cell_type": "markdown",
   "metadata": {},
   "source": [
    "#### First, let's join the tables using `merge()`\n",
    "[merge() documentation](https://pandas.pydata.org/pandas-docs/stable/reference/api/pandas.DataFrame.merge.html#pandas.DataFrame.merge)\n",
    ">- We will perform an inner join on `Product_ID` because we only want data from both tables to show in the result set (i.e., we only want to see customers that have made a purchase) \n",
    "\n",
    "![InnerJoin_warmup.PNG](attachment:InnerJoin_warmup.PNG)"
   ]
  },
  {
   "cell_type": "code",
   "execution_count": 19,
   "metadata": {},
   "outputs": [
    {
     "data": {
      "text/html": [
       "<div>\n",
       "<style scoped>\n",
       "    .dataframe tbody tr th:only-of-type {\n",
       "        vertical-align: middle;\n",
       "    }\n",
       "\n",
       "    .dataframe tbody tr th {\n",
       "        vertical-align: top;\n",
       "    }\n",
       "\n",
       "    .dataframe thead th {\n",
       "        text-align: right;\n",
       "    }\n",
       "</style>\n",
       "<table border=\"1\" class=\"dataframe\">\n",
       "  <thead>\n",
       "    <tr style=\"text-align: right;\">\n",
       "      <th></th>\n",
       "      <th>Product_ID</th>\n",
       "      <th>Product_name</th>\n",
       "      <th>Category</th>\n",
       "      <th>Price</th>\n",
       "      <th>Seller_City</th>\n",
       "      <th>id</th>\n",
       "      <th>name</th>\n",
       "      <th>age</th>\n",
       "      <th>Purchased_Product</th>\n",
       "      <th>City</th>\n",
       "    </tr>\n",
       "  </thead>\n",
       "  <tbody>\n",
       "    <tr>\n",
       "      <th>0</th>\n",
       "      <td>101</td>\n",
       "      <td>Watch</td>\n",
       "      <td>Fashion</td>\n",
       "      <td>299.0</td>\n",
       "      <td>Delhi</td>\n",
       "      <td>1</td>\n",
       "      <td>Olivia</td>\n",
       "      <td>20</td>\n",
       "      <td>Watch</td>\n",
       "      <td>Mumbai</td>\n",
       "    </tr>\n",
       "    <tr>\n",
       "      <th>1</th>\n",
       "      <td>103</td>\n",
       "      <td>Shoes</td>\n",
       "      <td>Fashion</td>\n",
       "      <td>2999.0</td>\n",
       "      <td>Chennai</td>\n",
       "      <td>5</td>\n",
       "      <td>Dominic</td>\n",
       "      <td>30</td>\n",
       "      <td>Shoes</td>\n",
       "      <td>Chennai</td>\n",
       "    </tr>\n",
       "    <tr>\n",
       "      <th>2</th>\n",
       "      <td>104</td>\n",
       "      <td>Smartphone</td>\n",
       "      <td>Electronics</td>\n",
       "      <td>14999.0</td>\n",
       "      <td>Kolkata</td>\n",
       "      <td>6</td>\n",
       "      <td>Tyler</td>\n",
       "      <td>65</td>\n",
       "      <td>Smartphone</td>\n",
       "      <td>Delhi</td>\n",
       "    </tr>\n",
       "    <tr>\n",
       "      <th>3</th>\n",
       "      <td>106</td>\n",
       "      <td>Oil</td>\n",
       "      <td>Grocery</td>\n",
       "      <td>110.0</td>\n",
       "      <td>Chennai</td>\n",
       "      <td>3</td>\n",
       "      <td>Cory</td>\n",
       "      <td>15</td>\n",
       "      <td>Oil</td>\n",
       "      <td>Bangalore</td>\n",
       "    </tr>\n",
       "    <tr>\n",
       "      <th>4</th>\n",
       "      <td>107</td>\n",
       "      <td>Laptop</td>\n",
       "      <td>Electronics</td>\n",
       "      <td>79999.0</td>\n",
       "      <td>Bengalore</td>\n",
       "      <td>9</td>\n",
       "      <td>Jeremy</td>\n",
       "      <td>23</td>\n",
       "      <td>Laptop</td>\n",
       "      <td>Mumbai</td>\n",
       "    </tr>\n",
       "  </tbody>\n",
       "</table>\n",
       "</div>"
      ],
      "text/plain": [
       "   Product_ID Product_name     Category    Price Seller_City  id     name  \\\n",
       "0         101        Watch      Fashion    299.0       Delhi   1   Olivia   \n",
       "1         103        Shoes      Fashion   2999.0     Chennai   5  Dominic   \n",
       "2         104   Smartphone  Electronics  14999.0     Kolkata   6    Tyler   \n",
       "3         106          Oil      Grocery    110.0     Chennai   3     Cory   \n",
       "4         107       Laptop  Electronics  79999.0   Bengalore   9   Jeremy   \n",
       "\n",
       "   age Purchased_Product       City  \n",
       "0   20             Watch     Mumbai  \n",
       "1   30             Shoes    Chennai  \n",
       "2   65        Smartphone      Delhi  \n",
       "3   15               Oil  Bangalore  \n",
       "4   23            Laptop     Mumbai  "
      ]
     },
     "execution_count": 19,
     "metadata": {},
     "output_type": "execute_result"
    }
   ],
   "source": [
    "pd.merge(prod,cust,left_on='Product_ID',right_on='Product_ID')\n",
    "#pd.merge(prod,cust,on='Product_ID')"
   ]
  },
  {
   "cell_type": "markdown",
   "metadata": {},
   "source": [
    "#### If the names of the columns between dataframes aren't the same you specify the fields to join on from each DataFrame using `left_on` and `right_on`"
   ]
  },
  {
   "cell_type": "code",
   "execution_count": null,
   "metadata": {},
   "outputs": [],
   "source": []
  },
  {
   "cell_type": "markdown",
   "metadata": {},
   "source": [
    "## Joining `prod` and `cust` using `join()`\n",
    "\n",
    "[join() documentation](https://pandas.pydata.org/pandas-docs/stable/reference/api/pandas.DataFrame.join.html)\n",
    "\n",
    "#### Note: when using `join()` we need to set the index for each dataframe to be the field(s) we want to join on"
   ]
  },
  {
   "cell_type": "code",
   "execution_count": null,
   "metadata": {},
   "outputs": [],
   "source": []
  },
  {
   "cell_type": "markdown",
   "metadata": {},
   "source": [
    "# Q2: Which products were bought and sold in the same city?\n",
    ">- Here, we need to match on `Product_ID` and the city fields (City, Seller_City)"
   ]
  },
  {
   "cell_type": "code",
   "execution_count": 21,
   "metadata": {},
   "outputs": [
    {
     "data": {
      "text/html": [
       "<div>\n",
       "<style scoped>\n",
       "    .dataframe tbody tr th:only-of-type {\n",
       "        vertical-align: middle;\n",
       "    }\n",
       "\n",
       "    .dataframe tbody tr th {\n",
       "        vertical-align: top;\n",
       "    }\n",
       "\n",
       "    .dataframe thead th {\n",
       "        text-align: right;\n",
       "    }\n",
       "</style>\n",
       "<table border=\"1\" class=\"dataframe\">\n",
       "  <thead>\n",
       "    <tr style=\"text-align: right;\">\n",
       "      <th></th>\n",
       "      <th>Product_ID</th>\n",
       "      <th>Product_name</th>\n",
       "      <th>Category</th>\n",
       "      <th>Price</th>\n",
       "      <th>Seller_City</th>\n",
       "      <th>id</th>\n",
       "      <th>name</th>\n",
       "      <th>age</th>\n",
       "      <th>Purchased_Product</th>\n",
       "      <th>City</th>\n",
       "    </tr>\n",
       "  </thead>\n",
       "  <tbody>\n",
       "    <tr>\n",
       "      <th>0</th>\n",
       "      <td>103</td>\n",
       "      <td>Shoes</td>\n",
       "      <td>Fashion</td>\n",
       "      <td>2999.0</td>\n",
       "      <td>Chennai</td>\n",
       "      <td>5</td>\n",
       "      <td>Dominic</td>\n",
       "      <td>30</td>\n",
       "      <td>Shoes</td>\n",
       "      <td>Chennai</td>\n",
       "    </tr>\n",
       "  </tbody>\n",
       "</table>\n",
       "</div>"
      ],
      "text/plain": [
       "   Product_ID Product_name Category   Price Seller_City  id     name  age  \\\n",
       "0         103        Shoes  Fashion  2999.0     Chennai   5  Dominic   30   \n",
       "\n",
       "  Purchased_Product     City  \n",
       "0             Shoes  Chennai  "
      ]
     },
     "execution_count": 21,
     "metadata": {},
     "output_type": "execute_result"
    }
   ],
   "source": [
    "pd.merge(prod,cust,left_on=['Product_ID', 'Seller_City'],right_on=['Product_ID','City'])"
   ]
  },
  {
   "cell_type": "markdown",
   "metadata": {},
   "source": [
    "#### Using `join()` you set a multi-index"
   ]
  },
  {
   "cell_type": "code",
   "execution_count": 23,
   "metadata": {},
   "outputs": [
    {
     "data": {
      "text/html": [
       "<div>\n",
       "<style scoped>\n",
       "    .dataframe tbody tr th:only-of-type {\n",
       "        vertical-align: middle;\n",
       "    }\n",
       "\n",
       "    .dataframe tbody tr th {\n",
       "        vertical-align: top;\n",
       "    }\n",
       "\n",
       "    .dataframe thead th {\n",
       "        text-align: right;\n",
       "    }\n",
       "</style>\n",
       "<table border=\"1\" class=\"dataframe\">\n",
       "  <thead>\n",
       "    <tr style=\"text-align: right;\">\n",
       "      <th></th>\n",
       "      <th></th>\n",
       "      <th>Product_name</th>\n",
       "      <th>Category</th>\n",
       "      <th>Price</th>\n",
       "    </tr>\n",
       "    <tr>\n",
       "      <th>Product_ID</th>\n",
       "      <th>Seller_City</th>\n",
       "      <th></th>\n",
       "      <th></th>\n",
       "      <th></th>\n",
       "    </tr>\n",
       "  </thead>\n",
       "  <tbody>\n",
       "    <tr>\n",
       "      <th>101</th>\n",
       "      <th>Delhi</th>\n",
       "      <td>Watch</td>\n",
       "      <td>Fashion</td>\n",
       "      <td>299.0</td>\n",
       "    </tr>\n",
       "    <tr>\n",
       "      <th>102</th>\n",
       "      <th>Mumbai</th>\n",
       "      <td>Bag</td>\n",
       "      <td>Fashion</td>\n",
       "      <td>1350.5</td>\n",
       "    </tr>\n",
       "    <tr>\n",
       "      <th>103</th>\n",
       "      <th>Chennai</th>\n",
       "      <td>Shoes</td>\n",
       "      <td>Fashion</td>\n",
       "      <td>2999.0</td>\n",
       "    </tr>\n",
       "    <tr>\n",
       "      <th>104</th>\n",
       "      <th>Kolkata</th>\n",
       "      <td>Smartphone</td>\n",
       "      <td>Electronics</td>\n",
       "      <td>14999.0</td>\n",
       "    </tr>\n",
       "    <tr>\n",
       "      <th>105</th>\n",
       "      <th>Delhi</th>\n",
       "      <td>Books</td>\n",
       "      <td>Study</td>\n",
       "      <td>145.0</td>\n",
       "    </tr>\n",
       "    <tr>\n",
       "      <th>106</th>\n",
       "      <th>Chennai</th>\n",
       "      <td>Oil</td>\n",
       "      <td>Grocery</td>\n",
       "      <td>110.0</td>\n",
       "    </tr>\n",
       "    <tr>\n",
       "      <th>107</th>\n",
       "      <th>Bengalore</th>\n",
       "      <td>Laptop</td>\n",
       "      <td>Electronics</td>\n",
       "      <td>79999.0</td>\n",
       "    </tr>\n",
       "  </tbody>\n",
       "</table>\n",
       "</div>"
      ],
      "text/plain": [
       "                       Product_name     Category    Price\n",
       "Product_ID Seller_City                                   \n",
       "101        Delhi              Watch      Fashion    299.0\n",
       "102        Mumbai               Bag      Fashion   1350.5\n",
       "103        Chennai            Shoes      Fashion   2999.0\n",
       "104        Kolkata       Smartphone  Electronics  14999.0\n",
       "105        Delhi              Books        Study    145.0\n",
       "106        Chennai              Oil      Grocery    110.0\n",
       "107        Bengalore         Laptop  Electronics  79999.0"
      ]
     },
     "execution_count": 23,
     "metadata": {},
     "output_type": "execute_result"
    }
   ],
   "source": [
    "keyed_prod = prod.set_index(['Product_ID', 'Seller_City'])\n",
    "keyed_prod"
   ]
  },
  {
   "cell_type": "code",
   "execution_count": 24,
   "metadata": {},
   "outputs": [
    {
     "data": {
      "text/html": [
       "<div>\n",
       "<style scoped>\n",
       "    .dataframe tbody tr th:only-of-type {\n",
       "        vertical-align: middle;\n",
       "    }\n",
       "\n",
       "    .dataframe tbody tr th {\n",
       "        vertical-align: top;\n",
       "    }\n",
       "\n",
       "    .dataframe thead th {\n",
       "        text-align: right;\n",
       "    }\n",
       "</style>\n",
       "<table border=\"1\" class=\"dataframe\">\n",
       "  <thead>\n",
       "    <tr style=\"text-align: right;\">\n",
       "      <th></th>\n",
       "      <th></th>\n",
       "      <th>id</th>\n",
       "      <th>name</th>\n",
       "      <th>age</th>\n",
       "      <th>Purchased_Product</th>\n",
       "    </tr>\n",
       "    <tr>\n",
       "      <th>Product_ID</th>\n",
       "      <th>City</th>\n",
       "      <th></th>\n",
       "      <th></th>\n",
       "      <th></th>\n",
       "      <th></th>\n",
       "    </tr>\n",
       "  </thead>\n",
       "  <tbody>\n",
       "    <tr>\n",
       "      <th>101</th>\n",
       "      <th>Mumbai</th>\n",
       "      <td>1</td>\n",
       "      <td>Olivia</td>\n",
       "      <td>20</td>\n",
       "      <td>Watch</td>\n",
       "    </tr>\n",
       "    <tr>\n",
       "      <th>0</th>\n",
       "      <th>Delhi</th>\n",
       "      <td>2</td>\n",
       "      <td>Aditya</td>\n",
       "      <td>25</td>\n",
       "      <td>NA</td>\n",
       "    </tr>\n",
       "    <tr>\n",
       "      <th>106</th>\n",
       "      <th>Bangalore</th>\n",
       "      <td>3</td>\n",
       "      <td>Cory</td>\n",
       "      <td>15</td>\n",
       "      <td>Oil</td>\n",
       "    </tr>\n",
       "    <tr>\n",
       "      <th>0</th>\n",
       "      <th>Chennai</th>\n",
       "      <td>4</td>\n",
       "      <td>Isabell</td>\n",
       "      <td>10</td>\n",
       "      <td>NA</td>\n",
       "    </tr>\n",
       "    <tr>\n",
       "      <th>103</th>\n",
       "      <th>Chennai</th>\n",
       "      <td>5</td>\n",
       "      <td>Dominic</td>\n",
       "      <td>30</td>\n",
       "      <td>Shoes</td>\n",
       "    </tr>\n",
       "    <tr>\n",
       "      <th>104</th>\n",
       "      <th>Delhi</th>\n",
       "      <td>6</td>\n",
       "      <td>Tyler</td>\n",
       "      <td>65</td>\n",
       "      <td>Smartphone</td>\n",
       "    </tr>\n",
       "    <tr>\n",
       "      <th rowspan=\"2\" valign=\"top\">0</th>\n",
       "      <th>Kolkata</th>\n",
       "      <td>7</td>\n",
       "      <td>Samuel</td>\n",
       "      <td>35</td>\n",
       "      <td>NA</td>\n",
       "    </tr>\n",
       "    <tr>\n",
       "      <th>Delhi</th>\n",
       "      <td>8</td>\n",
       "      <td>Daniel</td>\n",
       "      <td>18</td>\n",
       "      <td>NA</td>\n",
       "    </tr>\n",
       "    <tr>\n",
       "      <th>107</th>\n",
       "      <th>Mumbai</th>\n",
       "      <td>9</td>\n",
       "      <td>Jeremy</td>\n",
       "      <td>23</td>\n",
       "      <td>Laptop</td>\n",
       "    </tr>\n",
       "  </tbody>\n",
       "</table>\n",
       "</div>"
      ],
      "text/plain": [
       "                      id     name  age Purchased_Product\n",
       "Product_ID City                                         \n",
       "101        Mumbai      1   Olivia   20             Watch\n",
       "0          Delhi       2   Aditya   25                NA\n",
       "106        Bangalore   3     Cory   15               Oil\n",
       "0          Chennai     4  Isabell   10                NA\n",
       "103        Chennai     5  Dominic   30             Shoes\n",
       "104        Delhi       6    Tyler   65        Smartphone\n",
       "0          Kolkata     7   Samuel   35                NA\n",
       "           Delhi       8   Daniel   18                NA\n",
       "107        Mumbai      9   Jeremy   23            Laptop"
      ]
     },
     "execution_count": 24,
     "metadata": {},
     "output_type": "execute_result"
    }
   ],
   "source": [
    "keyed_cust = cust.set_index(['Product_ID', 'City'])\n",
    "keyed_cust"
   ]
  },
  {
   "cell_type": "code",
   "execution_count": 37,
   "metadata": {},
   "outputs": [
    {
     "data": {
      "text/html": [
       "<div>\n",
       "<style scoped>\n",
       "    .dataframe tbody tr th:only-of-type {\n",
       "        vertical-align: middle;\n",
       "    }\n",
       "\n",
       "    .dataframe tbody tr th {\n",
       "        vertical-align: top;\n",
       "    }\n",
       "\n",
       "    .dataframe thead th {\n",
       "        text-align: right;\n",
       "    }\n",
       "</style>\n",
       "<table border=\"1\" class=\"dataframe\">\n",
       "  <thead>\n",
       "    <tr style=\"text-align: right;\">\n",
       "      <th></th>\n",
       "      <th></th>\n",
       "      <th></th>\n",
       "      <th>Product_name</th>\n",
       "      <th>Category</th>\n",
       "      <th>Price</th>\n",
       "      <th>id</th>\n",
       "      <th>name</th>\n",
       "      <th>age</th>\n",
       "      <th>Purchased_Product</th>\n",
       "    </tr>\n",
       "    <tr>\n",
       "      <th>Product_ID</th>\n",
       "      <th>Seller_City</th>\n",
       "      <th>City</th>\n",
       "      <th></th>\n",
       "      <th></th>\n",
       "      <th></th>\n",
       "      <th></th>\n",
       "      <th></th>\n",
       "      <th></th>\n",
       "      <th></th>\n",
       "    </tr>\n",
       "  </thead>\n",
       "  <tbody>\n",
       "    <tr>\n",
       "      <th>101</th>\n",
       "      <th>Delhi</th>\n",
       "      <th>Mumbai</th>\n",
       "      <td>Watch</td>\n",
       "      <td>Fashion</td>\n",
       "      <td>299.0</td>\n",
       "      <td>1.0</td>\n",
       "      <td>Olivia</td>\n",
       "      <td>20.0</td>\n",
       "      <td>Watch</td>\n",
       "    </tr>\n",
       "    <tr>\n",
       "      <th>102</th>\n",
       "      <th>Mumbai</th>\n",
       "      <th>NaN</th>\n",
       "      <td>Bag</td>\n",
       "      <td>Fashion</td>\n",
       "      <td>1350.5</td>\n",
       "      <td>NaN</td>\n",
       "      <td>NaN</td>\n",
       "      <td>NaN</td>\n",
       "      <td>NaN</td>\n",
       "    </tr>\n",
       "    <tr>\n",
       "      <th>103</th>\n",
       "      <th>Chennai</th>\n",
       "      <th>Chennai</th>\n",
       "      <td>Shoes</td>\n",
       "      <td>Fashion</td>\n",
       "      <td>2999.0</td>\n",
       "      <td>5.0</td>\n",
       "      <td>Dominic</td>\n",
       "      <td>30.0</td>\n",
       "      <td>Shoes</td>\n",
       "    </tr>\n",
       "    <tr>\n",
       "      <th>104</th>\n",
       "      <th>Kolkata</th>\n",
       "      <th>Delhi</th>\n",
       "      <td>Smartphone</td>\n",
       "      <td>Electronics</td>\n",
       "      <td>14999.0</td>\n",
       "      <td>6.0</td>\n",
       "      <td>Tyler</td>\n",
       "      <td>65.0</td>\n",
       "      <td>Smartphone</td>\n",
       "    </tr>\n",
       "    <tr>\n",
       "      <th>105</th>\n",
       "      <th>Delhi</th>\n",
       "      <th>NaN</th>\n",
       "      <td>Books</td>\n",
       "      <td>Study</td>\n",
       "      <td>145.0</td>\n",
       "      <td>NaN</td>\n",
       "      <td>NaN</td>\n",
       "      <td>NaN</td>\n",
       "      <td>NaN</td>\n",
       "    </tr>\n",
       "    <tr>\n",
       "      <th>106</th>\n",
       "      <th>Chennai</th>\n",
       "      <th>Bangalore</th>\n",
       "      <td>Oil</td>\n",
       "      <td>Grocery</td>\n",
       "      <td>110.0</td>\n",
       "      <td>3.0</td>\n",
       "      <td>Cory</td>\n",
       "      <td>15.0</td>\n",
       "      <td>Oil</td>\n",
       "    </tr>\n",
       "    <tr>\n",
       "      <th>107</th>\n",
       "      <th>Bengalore</th>\n",
       "      <th>Mumbai</th>\n",
       "      <td>Laptop</td>\n",
       "      <td>Electronics</td>\n",
       "      <td>79999.0</td>\n",
       "      <td>9.0</td>\n",
       "      <td>Jeremy</td>\n",
       "      <td>23.0</td>\n",
       "      <td>Laptop</td>\n",
       "    </tr>\n",
       "  </tbody>\n",
       "</table>\n",
       "</div>"
      ],
      "text/plain": [
       "                                 Product_name     Category    Price   id  \\\n",
       "Product_ID Seller_City City                                                \n",
       "101        Delhi       Mumbai           Watch      Fashion    299.0  1.0   \n",
       "102        Mumbai      NaN                Bag      Fashion   1350.5  NaN   \n",
       "103        Chennai     Chennai          Shoes      Fashion   2999.0  5.0   \n",
       "104        Kolkata     Delhi       Smartphone  Electronics  14999.0  6.0   \n",
       "105        Delhi       NaN              Books        Study    145.0  NaN   \n",
       "106        Chennai     Bangalore          Oil      Grocery    110.0  3.0   \n",
       "107        Bengalore   Mumbai          Laptop  Electronics  79999.0  9.0   \n",
       "\n",
       "                                     name   age Purchased_Product  \n",
       "Product_ID Seller_City City                                        \n",
       "101        Delhi       Mumbai      Olivia  20.0             Watch  \n",
       "102        Mumbai      NaN            NaN   NaN               NaN  \n",
       "103        Chennai     Chennai    Dominic  30.0             Shoes  \n",
       "104        Kolkata     Delhi        Tyler  65.0        Smartphone  \n",
       "105        Delhi       NaN            NaN   NaN               NaN  \n",
       "106        Chennai     Bangalore     Cory  15.0               Oil  \n",
       "107        Bengalore   Mumbai      Jeremy  23.0            Laptop  "
      ]
     },
     "execution_count": 37,
     "metadata": {},
     "output_type": "execute_result"
    }
   ],
   "source": [
    "keyed_prod.join(keyed_cust, how='left', lsuffix=\"PROD_\", rsuffix=\"CUST_\")"
   ]
  },
  {
   "attachments": {
    "LeftJoin_warmup.PNG": {
     "image/png": "[encoded data removed]"
    }
   },
   "cell_type": "markdown",
   "metadata": {},
   "source": [
    "# Q3: What are all the products we have sold?\n",
    ">- Include information about customers if we have it\n",
    "\n",
    "Note: because we want all the products we have sold regardless if you have customer information this is a clue that we should use a `LEFT JOIN` where `prod` is the left table and `cust` is the right table\n",
    "\n",
    "![LeftJoin_warmup.PNG](attachment:LeftJoin_warmup.PNG)"
   ]
  },
  {
   "cell_type": "code",
   "execution_count": null,
   "metadata": {},
   "outputs": [],
   "source": []
  },
  {
   "cell_type": "code",
   "execution_count": null,
   "metadata": {},
   "outputs": [],
   "source": []
  },
  {
   "cell_type": "markdown",
   "metadata": {},
   "source": [
    "### Note: The 'NaN' values indicate where there wasn't a match found on Product_ID in the right table (cust)\n",
    "\n",
    "merge() also has the `indicator=True` option to show us where the tables match"
   ]
  },
  {
   "cell_type": "code",
   "execution_count": null,
   "metadata": {},
   "outputs": [],
   "source": []
  },
  {
   "cell_type": "markdown",
   "metadata": {},
   "source": [
    "# Q3 Follow-up question\n",
    "## Which products have we sold but do not have customer info on?\n",
    ">- Check your previous results to answer this question\n",
    ">- Enter your answer in the next cell by selecting those values from the `q3df`\n",
    ">>- Use `loc`, `where()`, etc to only show the products requested\n",
    ">>- Try finding the values using the `Product_ID`'s as well as output from the `_merge` column"
   ]
  },
  {
   "cell_type": "code",
   "execution_count": null,
   "metadata": {},
   "outputs": [],
   "source": []
  },
  {
   "cell_type": "code",
   "execution_count": null,
   "metadata": {},
   "outputs": [],
   "source": []
  },
  {
   "attachments": {
    "FullOuterJoin_warmup.PNG": {
     "image/png": "[encoded data removed]"
    }
   },
   "cell_type": "markdown",
   "metadata": {},
   "source": [
    "# Q4/task:\n",
    "### Use a `FULL OUTER JOIN` to show data from both tables regardless if there are matches\n",
    ">- FULL OUTER JOIN shows the data from both tables and will show null values where there isn't a match found\n",
    ">- This will allow us to see all the products that were sold regardless if we have customer information as well as all information on customers regardless if they have a purchase or not\n",
    ">- We will use `indicator=True` to show us where the data is\n",
    "\n",
    "![FullOuterJoin_warmup.PNG](attachment:FullOuterJoin_warmup.PNG)"
   ]
  },
  {
   "cell_type": "code",
   "execution_count": null,
   "metadata": {},
   "outputs": [],
   "source": []
  }
 ],
 "metadata": {
  "kernelspec": {
   "display_name": "Python 3 (ipykernel)",
   "language": "python",
   "name": "python3"
  },
  "language_info": {
   "codemirror_mode": {
    "name": "ipython",
    "version": 3
   },
   "file_extension": ".py",
   "mimetype": "text/x-python",
   "name": "python",
   "nbconvert_exporter": "python",
   "pygments_lexer": "ipython3",
   "version": "3.8.12"
  }
 },
 "nbformat": 4,
 "nbformat_minor": 2
}
