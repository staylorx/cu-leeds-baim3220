{
 "cells": [
  {
   "cell_type": "markdown",
   "id": "bb6f2a58",
   "metadata": {},
   "source": [
    "# Functions and Lists Exercise\n",
    "\n",
    "Run the following a few times to get a feel for what the code does. It's said that programmers spend far more time reading code than creating it. So take some time to play with this, try a few examples, and read through each function. \n",
    "\n",
    "I've add questions (Q:) in code and markdown. Find them (use your search) and answer them in a markdown cell immediately after each question."
   ]
  },
  {
   "cell_type": "markdown",
   "id": "270ed6b7",
   "metadata": {},
   "source": [
    "Q: I could have written entire program as one huge while loop. Why is the code \"chunked out\" into its separate functions? For instance, the clearPortfolio() function is pretty short... we could have just typed that into the main loop. "
   ]
  },
  {
   "cell_type": "code",
   "execution_count": null,
   "id": "c3c08a7a",
   "metadata": {},
   "outputs": [],
   "source": [
    "# This is a global variable\n",
    "stock_portfolio = []"
   ]
  },
  {
   "cell_type": "markdown",
   "id": "61cfcdda",
   "metadata": {},
   "source": [
    "## Task 2\n",
    "\n",
    "Update the function called getPortfolioAverage() that returns the average price of the portfolio. Print the average price in the main loop, not the function itself. "
   ]
  },
  {
   "cell_type": "code",
   "execution_count": null,
   "id": "33ac06e0",
   "metadata": {},
   "outputs": [],
   "source": [
    "def getPortfolioAverage():\n",
    "    \"\"\"\n",
    "    Return the average price of the portfolio\n",
    "    \n",
    "    It is a known limitation that a portfolio with no stocks will show an average of zero.\n",
    "    \"\"\"\n",
    "    average_price = 0\n",
    "\n",
    "    # YOUR CODE GOES HERE\n",
    "\n",
    "\n",
    "\n",
    "\n",
    "\n",
    "\n",
    "    return average_price"
   ]
  },
  {
   "cell_type": "markdown",
   "id": "3d5ac61b",
   "metadata": {},
   "source": [
    "## Task 3\n",
    "\n",
    "With PRINT and DUMP I have a pretty way to view the contents of the data, and a \"raw\" way to look at the data. IMPORT an entire portfolio in one string. Import here means clear the existing portfolio and create new records.\n",
    "\n",
    "_Hint: enter all it in one input() string, e.g., \"HD,123.45,F,34.56\", then split() that strong by commas, then iterate through what split() returns. Process. Profit!_"
   ]
  },
  {
   "cell_type": "code",
   "execution_count": null,
   "id": "1a2ab3ab",
   "metadata": {},
   "outputs": [],
   "source": [
    "def bulkImport(import_string):\n",
    "    \"\"\"\n",
    "    Given an import_string in any format, but e.g., \"HD,123.45,F,34.56\", or \"HD=123.45,F=34.56\",\n",
    "    clear the portfolio, then add the stocks. Use existing functions to clear and add.\n",
    "    \n",
    "    This doesn't return anything other than None.\n",
    "    \"\"\"\n",
    "\n",
    "    # YOUR CODE GOES HERE\n",
    "\n",
    "    \n",
    "    \n",
    "    \n",
    "    \n",
    "    \n",
    "    \n",
    "    return None"
   ]
  },
  {
   "cell_type": "code",
   "execution_count": null,
   "id": "504db917",
   "metadata": {},
   "outputs": [],
   "source": [
    "def clearPortfolio():\n",
    "    \"\"\"\n",
    "    For every record in the portfolio, remove them all one by one.\n",
    "\n",
    "    Let's say e.g., that you really dislike my implementation of this and you want to replace it. Do so if you like.\n",
    "\n",
    "    Q: Is the variable called 'record' below a global or local variable?\n",
    "\n",
    "    Q: If you were to change the implementation of this code would you need to change anything in the main loop?\n",
    "    Why or why not?\n",
    "\n",
    "    \"\"\"\n",
    "    for record in stock_portfolio:\n",
    "        stock_portfolio.pop()"
   ]
  },
  {
   "cell_type": "code",
   "execution_count": null,
   "id": "f5792d93",
   "metadata": {},
   "outputs": [],
   "source": [
    "def addStock(ticker, price):\n",
    "    \"\"\"\n",
    "    Given a ticker symbol and a price, add the ticker and price if it's not already there.\n",
    "    If the ticker symbol already exists then update the price of the existing ticker.\n",
    "    \n",
    "    Q: We call this an \"upsert\". Can you think of any reason to have broken this into two functions,\n",
    "    e.g., 'insert' and 'update'?\n",
    "    \n",
    "    Return True, and the record if valid add; else False indicating error and None\n",
    "    \"\"\"\n",
    "\n",
    "    # Guard price to ensure it's a float\n",
    "    try:\n",
    "        price = float(price)\n",
    "    except:\n",
    "        print(f\"Cannot convert {price} to a number.\")\n",
    "        return False, None\n",
    "    \n",
    "    for record in stock_portfolio:\n",
    "\n",
    "        # lookup the ticker, and if found update the price\n",
    "        if record[0].upper() == ticker.upper():\n",
    "            record[1] = price\n",
    "            # we've done what we set out to do. Just exit\n",
    "            return record\n",
    "\n",
    "    # create a new nested list\n",
    "    new_record = [ticker.upper(), price]\n",
    "\n",
    "    # We shouldn't get to this point if we've found a stock ticker\n",
    "    stock_portfolio.append(new_record)\n",
    "    \n",
    "    # It's generally good form to return the thing created.\n",
    "    # For no other reason than it's often easier to test the function.\n",
    "    # Also, just because I'm returning something doesn't mean the caller is under any obligation to _use_ it.\n",
    "    return True, new_record"
   ]
  },
  {
   "cell_type": "code",
   "execution_count": null,
   "id": "e7e32b1c",
   "metadata": {},
   "outputs": [],
   "source": [
    "def getStockPrice(ticker):\n",
    "    \"\"\"\n",
    "    Given a ticker symbol, look up the price and return it.\n",
    "\n",
    "    Return None if no ticker found.\n",
    "    \"\"\"\n",
    "    for record in stock_portfolio:\n",
    "\n",
    "        # lookup the ticker, and if found update the price\n",
    "        if record[0].upper() == ticker.upper():\n",
    "            return record[1]\n",
    "        \n",
    "    # Q: I don't need to have a default return here to bring back None. Why?"
   ]
  },
  {
   "cell_type": "code",
   "execution_count": null,
   "id": "bebec7ca",
   "metadata": {},
   "outputs": [],
   "source": [
    "def printStocks():\n",
    "    \"\"\"\n",
    "    Print the prices of the stocks.\n",
    "    \"\"\"\n",
    "    for record in stock_portfolio:\n",
    "        # A formatting helper in the record[1] keeps the print to two decimal places\n",
    "        # without changing the actual datum.\n",
    "        print(f\"The price for {record[0]} is {record[1]:2n}\")"
   ]
  },
  {
   "cell_type": "markdown",
   "id": "a8b59235",
   "metadata": {},
   "source": [
    "## The main loop.\n",
    "\n",
    "Q: I left `response == \"DUMP\"` to demonstrate why using `\"DUMP\" in response` is superior. Why is the latter better?\n",
    "\n",
    "Q: Why did I use upper() \"chained\" to the end of the input functions?\n",
    "\n",
    "_Hint: try entering \"dump \" (with a space after it)_\n",
    "\n",
    "We're always making assumptions when we use input() and we find outselves not validating that the price entry is actually a float. Could we build a function that ensures the value is either None or a float? Of course!"
   ]
  },
  {
   "cell_type": "markdown",
   "id": "bdf5257d",
   "metadata": {},
   "source": [
    "## Task 1\n",
    "\n",
    "Without changing anything, run the main loop below and ADD a stock \"HD\" with a price of 123.45, and another \"F\" at 34.56. Print the portfolio using PRINT and them show it using DUMP. The latter should show `[['HD', 123.45], ['F', 34.56]]`. There's nothing to output on this, just to do and to know.\n",
    "\n",
    "### Task 2 and 3 (cont.)\n",
    "\n",
    "Add in the functions you created above into the elif blocks in the main loop below."
   ]
  },
  {
   "cell_type": "code",
   "execution_count": null,
   "id": "a9e616e0",
   "metadata": {},
   "outputs": [],
   "source": [
    "# In notebooks, catching KeyboardInterrupt is always a little weird.\n",
    "# So that's why this isn't wrapped in try-except.\n",
    "\n",
    "from pprint import pprint  # The dictionary typealongs introduce this, but we'll use it with DUMP\n",
    "\n",
    "while True:\n",
    "\n",
    "    response = input(\"Enter command (add/get/avg/import/print/dump/clear/quit): \").upper()\n",
    "\n",
    "    if \"QUIT\" in response:\n",
    "        break\n",
    "    elif \"ADD\" in response:\n",
    "        ticker = input(\"Stock ticker?\").upper()\n",
    "        price = float(input(\"Current price?\"))\n",
    "        addStock(ticker, price)\n",
    "    elif \"AVG\" in response:\n",
    "        average_price = getPortfolioAverage()\n",
    "        print(f\"Average price is {average_price}\")\n",
    "    elif \"IMPORT\" in response:\n",
    "        print(\"not implemented yet... for you to do.\")\n",
    "        # hint, use an input() to get the string, then hand that in as an argument to bulkImport\n",
    "    elif \"PRINT\" in response:\n",
    "        printStocks()\n",
    "    elif response == \"DUMP\":\n",
    "        # This is sort of a debug\n",
    "        pprint(stock_portfolio)  # You won't notice print vs pprint until the collections get big\n",
    "    elif \"GET\" in response:\n",
    "        ticker = input(\"Which stock ticker?\").upper()\n",
    "        if ticker:  # Q: Why didn't I ask if ticker == True?\n",
    "            print(f\"The price for {ticker} is {getStockPrice(ticker)}\")\n",
    "        else:\n",
    "            print(f\"No ticker found for {ticker}.\")\n",
    "    elif \"CLEAR\" in response:\n",
    "        clearPortfolio()\n",
    "    else:\n",
    "        print(\"Invalid command.\")\n",
    "        \n",
    "print(\"Finished.\")"
   ]
  }
 ],
 "metadata": {
  "kernelspec": {
   "display_name": "Python 3 (ipykernel)",
   "language": "python",
   "name": "python3"
  },
  "language_info": {
   "codemirror_mode": {
    "name": "ipython",
    "version": 3
   },
   "file_extension": ".py",
   "mimetype": "text/x-python",
   "name": "python",
   "nbconvert_exporter": "python",
   "pygments_lexer": "ipython3",
   "version": "3.8.12"
  }
 },
 "nbformat": 4,
 "nbformat_minor": 5
}
