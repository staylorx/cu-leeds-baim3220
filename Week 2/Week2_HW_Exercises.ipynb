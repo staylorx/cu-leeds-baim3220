{
 "cells": [
  {
   "cell_type": "markdown",
   "metadata": {},
   "source": [
    "# Boolean Expressions\n",
    ">- Exercises to complete on your own\n",
    "\n",
    "1. Write out 5-10 more Boolean expresions with increasing complexity.\n",
    "2. Use the print() and str() functions to show the Boolean values being calculated throughout the expressions.\n",
    "3. In your final line of code, write the expression so the output will be a Boolean value."
   ]
  },
  {
   "cell_type": "code",
   "execution_count": null,
   "metadata": {},
   "outputs": [],
   "source": []
  },
  {
   "cell_type": "code",
   "execution_count": null,
   "metadata": {},
   "outputs": [],
   "source": []
  },
  {
   "cell_type": "code",
   "execution_count": null,
   "metadata": {},
   "outputs": [],
   "source": []
  },
  {
   "cell_type": "code",
   "execution_count": null,
   "metadata": {},
   "outputs": [],
   "source": []
  },
  {
   "cell_type": "code",
   "execution_count": null,
   "metadata": {},
   "outputs": [],
   "source": []
  },
  {
   "cell_type": "code",
   "execution_count": null,
   "metadata": {},
   "outputs": [],
   "source": []
  },
  {
   "cell_type": "markdown",
   "metadata": {},
   "source": [
    "# Control Flow Exercises to Complete\n",
    "\n",
    "Rewrite the below version of our age program so that a different message will be printed for each of the age inputs we tried. "
   ]
  },
  {
   "cell_type": "markdown",
   "metadata": {},
   "source": [
    "### Incorrect Control Flow"
   ]
  },
  {
   "cell_type": "code",
   "execution_count": null,
   "metadata": {},
   "outputs": [],
   "source": [
    "#In this example, rerun the code using these ages: 50, 40, 55, 105, 20\n",
    "\n",
    "age = int(input('What is your age?'))\n",
    "\n",
    "if age <= 50:\n",
    "    \n",
    "    print(\"You aren't that old yet\")\n",
    "    \n",
    "elif age >50 and age <75: \n",
    "    \n",
    "    print(\"You are starting to get up there\")\n",
    "    \n",
    "elif age >= 75:\n",
    "    \n",
    "    print(\"Don't worry, people are living longer these days\")\n",
    "    \n",
    "elif age < 21:\n",
    "    \n",
    "    print(\"You can't even legally drink alcohol yet\")\n",
    "    \n",
    "elif age >100:\n",
    "    \n",
    "    print(\"wow, you must have some good genes!\")"
   ]
  },
  {
   "cell_type": "markdown",
   "metadata": {},
   "source": [
    "### Correct the control flow in the next cell"
   ]
  },
  {
   "cell_type": "code",
   "execution_count": null,
   "metadata": {},
   "outputs": [],
   "source": []
  }
 ],
 "metadata": {
  "kernelspec": {
   "display_name": "Python 3 (ipykernel)",
   "language": "python",
   "name": "python3"
  },
  "language_info": {
   "codemirror_mode": {
    "name": "ipython",
    "version": 3
   },
   "file_extension": ".py",
   "mimetype": "text/x-python",
   "name": "python",
   "nbconvert_exporter": "python",
   "pygments_lexer": "ipython3",
   "version": "3.8.12"
  }
 },
 "nbformat": 4,
 "nbformat_minor": 2
}
