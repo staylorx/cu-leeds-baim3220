{
 "cells": [
  {
   "cell_type": "markdown",
   "metadata": {},
   "source": [
    "# Week 9 \n",
    "## In-Class Activity Workbook and Homework\n",
    "\n",
    "## Learning Objectives \n",
    "### In this notebook you will learn about and practice:\n",
    "1. Section 1: <a id='Section 1'></a>[Section 1: Reading and examining files with pandas](#Section-1)\n",
    "2. Section 2: <a id='Section 2'></a>[Section 2: Selecting Data with pandas](#Section-2)\n",
    "3. Section 3: <a id='Section 3'></a>[Section 3: More practice selecting data](#Section-3)\n",
    "4. Section 4: <a id='Section 4'></a>[Section 4: Conditional Selection](#Section-4)\n",
    "\n",
    "### Additional Sources\n",
    ">- Check out the `pandas` cheat sheets provided by Data Camp and posted on Canvas\n",
    ">>- https://www.datacamp.com/community/blog/python-pandas-cheat-sheet"
   ]
  },
  {
   "cell_type": "markdown",
   "metadata": {
    "slideshow": {
     "slide_type": "slide"
    }
   },
   "source": [
    "# Section 1\n",
    "\n",
    "## What is the `pandas` module?\n",
    ">- pandas is a flexible data analysis library built within the C language and is one of the fastest ways of getting from zero to answer\n",
    ">- `pandas` is the go to tool for most business analysts and scientists working in python and learning to proficient in `pandas` will do wonders to your productivity and look great on your resume\n",
    ">- Some say `pandas` is basically Excel on steroids\n",
    "    >- `pandas` can be thought of as a mix of Python and SQL so if you know SQL working with `pandas` may come easier to you but knowing SQL is not a prerequisite for working in `pandas`\n",
    "    \n",
    "### Some of the useful ways in which you can use the `pandas` module include:\n",
    "\n",
    "1. Transforming tabular data into python to work with\n",
    "2. Cleaning and filtering data, whether it's missing or incomplete\n",
    "3. Feature engineer new columns that can be applied in your analysis\n",
    "4. Calculating statistics that answer questions (mean, median, max, min, etc)\n",
    "5. Finding correlations between columns\n",
    "6. Visualizing data with matplotlib\n"
   ]
  },
  {
   "cell_type": "markdown",
   "metadata": {},
   "source": [
    "## Reading and Writing Files with the Python `pandas` Module\n",
    "\n",
    "### Read csv or Excel files\n",
    ">- csv files: `pd.read_csv('fileName.csv')`\n",
    ">- Excel files: `pd.read_excel('fileName.xlsx')`\n",
    ">- Multiple sheets from the same Excel file: \n",
    ">>- `xlsx = pd.ExcelFile('file.xls')` # reads in the entire workbook\n",
    ">>- `df1 = pd.read_excel(xlsx, 'Sheet1')`  # reads in sheet you specify\n",
    ">>- `df2 = pd.read_excel(xlsx, 'Sheet2')`\n",
    "\n",
    "### Write csv or Excel files\n",
    ">- csv files: `pd.to_csv('YourDataFrame.csv')`\n",
    ">- Excel files: `pd.to_excel('YourDataFrame.xlsx')`"
   ]
  },
  {
   "cell_type": "markdown",
   "metadata": {
    "slideshow": {
     "slide_type": "slide"
    }
   },
   "source": [
    "# Section 1\n",
    "## Reading Files and Initial Data Examination with `pandas`"
   ]
  },
  {
   "cell_type": "markdown",
   "metadata": {},
   "source": [
    "## Creating a `stu` DataFrame\n",
    ">- Complete the following steps to practice reading in a csv file\n",
    ">>- Note: You should download the `students.csv` and `students100.xlsx` files from Canvas and save it in the same director/folder that you have this notebook saved in\n",
    "1. Import the pandas module and alias it `pd`"
   ]
  },
  {
   "cell_type": "markdown",
   "metadata": {},
   "source": [
    "### Step 1: Check your working directory and make sure you have the `students.csv` and `students100.xlxs` files there\n",
    ">- Note: There are several ways to do this"
   ]
  },
  {
   "cell_type": "code",
   "execution_count": 9,
   "metadata": {},
   "outputs": [
    {
     "data": {
      "text/plain": [
       "['.ipynb_checkpoints',\n",
       " 'anscombe_quartet.csv',\n",
       " 'loc vs iloc.ipynb',\n",
       " 'pandas1%262_Read_Index_Select_Activity_student.ipynb',\n",
       " 'pandasCheatSheet_DataCamp.pdf',\n",
       " 'Pandas_Part1_Student.ipynb',\n",
       " 'Pandas_Part2_Indexing-Selecting-Assigning_STUDENT.ipynb',\n",
       " 'students.csv',\n",
       " 'students100.xlsx',\n",
       " 'winemag-data-130k-v2.csv']"
      ]
     },
     "execution_count": 9,
     "metadata": {},
     "output_type": "execute_result"
    }
   ],
   "source": [
    "import os\n",
    "os.listdir()"
   ]
  },
  {
   "cell_type": "markdown",
   "metadata": {},
   "source": [
    "### Step 2: import the `pandas` module and alias it `pd`"
   ]
  },
  {
   "cell_type": "code",
   "execution_count": 10,
   "metadata": {},
   "outputs": [],
   "source": [
    "import pandas as pd"
   ]
  },
  {
   "cell_type": "markdown",
   "metadata": {},
   "source": [
    "### Step 3: Read the `students.csv` file into a pandas dataframe named, `stu`\n",
    ">- Look at the first five records to make sure `stu` is imported correctly\n",
    "\n",
    "#### Loading a CSV file\n",
    "function: `pd.read_csv()`\n",
    "\n",
    "[Docu read_csv](https://pandas.pydata.org/pandas-docs/stable/generated/pandas.read_csv.html?highlight=read_excel#pandas.read_excel)"
   ]
  },
  {
   "cell_type": "code",
   "execution_count": 12,
   "metadata": {},
   "outputs": [
    {
     "data": {
      "text/html": [
       "<div>\n",
       "<style scoped>\n",
       "    .dataframe tbody tr th:only-of-type {\n",
       "        vertical-align: middle;\n",
       "    }\n",
       "\n",
       "    .dataframe tbody tr th {\n",
       "        vertical-align: top;\n",
       "    }\n",
       "\n",
       "    .dataframe thead th {\n",
       "        text-align: right;\n",
       "    }\n",
       "</style>\n",
       "<table border=\"1\" class=\"dataframe\">\n",
       "  <thead>\n",
       "    <tr style=\"text-align: right;\">\n",
       "      <th></th>\n",
       "      <th>studentID</th>\n",
       "      <th>firstName</th>\n",
       "      <th>lastName</th>\n",
       "      <th>birthdate</th>\n",
       "      <th>Points</th>\n",
       "    </tr>\n",
       "  </thead>\n",
       "  <tbody>\n",
       "    <tr>\n",
       "      <th>0</th>\n",
       "      <td>1</td>\n",
       "      <td>Amy</td>\n",
       "      <td>Willis</td>\n",
       "      <td>10/23/1991</td>\n",
       "      <td>18.032651</td>\n",
       "    </tr>\n",
       "    <tr>\n",
       "      <th>1</th>\n",
       "      <td>2</td>\n",
       "      <td>Donald</td>\n",
       "      <td>Pierce</td>\n",
       "      <td>4/7/1990</td>\n",
       "      <td>79.671554</td>\n",
       "    </tr>\n",
       "    <tr>\n",
       "      <th>2</th>\n",
       "      <td>3</td>\n",
       "      <td>Adam</td>\n",
       "      <td>Holmes</td>\n",
       "      <td>5/16/1991</td>\n",
       "      <td>10.495381</td>\n",
       "    </tr>\n",
       "    <tr>\n",
       "      <th>3</th>\n",
       "      <td>4</td>\n",
       "      <td>Patrick</td>\n",
       "      <td>Payne</td>\n",
       "      <td>12/29/1990</td>\n",
       "      <td>33.449285</td>\n",
       "    </tr>\n",
       "    <tr>\n",
       "      <th>4</th>\n",
       "      <td>5</td>\n",
       "      <td>Chris</td>\n",
       "      <td>Lynch</td>\n",
       "      <td>10/3/1990</td>\n",
       "      <td>33.654615</td>\n",
       "    </tr>\n",
       "  </tbody>\n",
       "</table>\n",
       "</div>"
      ],
      "text/plain": [
       "   studentID firstName lastName   birthdate     Points\n",
       "0          1       Amy   Willis  10/23/1991  18.032651\n",
       "1          2    Donald   Pierce    4/7/1990  79.671554\n",
       "2          3      Adam   Holmes   5/16/1991  10.495381\n",
       "3          4   Patrick    Payne  12/29/1990  33.449285\n",
       "4          5     Chris    Lynch   10/3/1990  33.654615"
      ]
     },
     "execution_count": 12,
     "metadata": {},
     "output_type": "execute_result"
    }
   ],
   "source": [
    "import pandas as pd\n",
    "stu = pd.read_csv('students.csv')\n",
    "stu.head()"
   ]
  },
  {
   "cell_type": "markdown",
   "metadata": {},
   "source": [
    "#### Now, set the index column of `stu` to the studentID column\n",
    ">- Note: make sure to make this change in-place\n",
    ">- There are several ways to do this. Below are couple of options\n",
    "\n",
    "1. Use the `index_col` option when reading in the file\n",
    "2. Look up the `set_index` method and apply it to `stu`"
   ]
  },
  {
   "cell_type": "code",
   "execution_count": null,
   "metadata": {
    "scrolled": true
   },
   "outputs": [],
   "source": []
  },
  {
   "cell_type": "markdown",
   "metadata": {},
   "source": [
    "#### Look at the first five records after you have set the index"
   ]
  },
  {
   "cell_type": "code",
   "execution_count": null,
   "metadata": {},
   "outputs": [],
   "source": []
  },
  {
   "cell_type": "markdown",
   "metadata": {},
   "source": [
    "#### Show the last five records of `stu`"
   ]
  },
  {
   "cell_type": "code",
   "execution_count": null,
   "metadata": {},
   "outputs": [],
   "source": []
  },
  {
   "cell_type": "markdown",
   "metadata": {
    "slideshow": {
     "slide_type": "subslide"
    }
   },
   "source": [
    "#### Show a tuple of the number of columns and rows in `stu`"
   ]
  },
  {
   "cell_type": "code",
   "execution_count": 14,
   "metadata": {},
   "outputs": [
    {
     "data": {
      "text/plain": [
       "100"
      ]
     },
     "execution_count": 14,
     "metadata": {},
     "output_type": "execute_result"
    }
   ],
   "source": [
    "stu.shape\n",
    "#print a sentence with an f-string similar \"there are N rows and M columns.\"\n",
    "stu.shape[0]"
   ]
  },
  {
   "cell_type": "markdown",
   "metadata": {},
   "source": [
    "#### Show the number rows another way"
   ]
  },
  {
   "cell_type": "code",
   "execution_count": null,
   "metadata": {},
   "outputs": [],
   "source": []
  },
  {
   "cell_type": "markdown",
   "metadata": {},
   "source": [
    "#### Show the columns in `stu`"
   ]
  },
  {
   "cell_type": "code",
   "execution_count": null,
   "metadata": {},
   "outputs": [],
   "source": []
  },
  {
   "cell_type": "markdown",
   "metadata": {},
   "source": [
    "#### Show the datatypes that are in `stu`"
   ]
  },
  {
   "cell_type": "code",
   "execution_count": null,
   "metadata": {},
   "outputs": [],
   "source": []
  },
  {
   "cell_type": "markdown",
   "metadata": {},
   "source": [
    "# Section 2\n",
    "## Accessing Data using `pandas`"
   ]
  },
  {
   "cell_type": "markdown",
   "metadata": {},
   "source": [
    "#### Access all the records of the `firstName` Column Only\n",
    ">- Try doing this three different ways"
   ]
  },
  {
   "cell_type": "code",
   "execution_count": null,
   "metadata": {},
   "outputs": [],
   "source": []
  },
  {
   "cell_type": "markdown",
   "metadata": {
    "slideshow": {
     "slide_type": "subslide"
    }
   },
   "source": [
    "#### Show all the data for rows 3 to 10"
   ]
  },
  {
   "cell_type": "code",
   "execution_count": null,
   "metadata": {},
   "outputs": [],
   "source": []
  },
  {
   "cell_type": "markdown",
   "metadata": {
    "slideshow": {
     "slide_type": "subslide"
    }
   },
   "source": [
    "#### Show all the data in the last row"
   ]
  },
  {
   "cell_type": "code",
   "execution_count": null,
   "metadata": {},
   "outputs": [],
   "source": []
  },
  {
   "cell_type": "markdown",
   "metadata": {},
   "source": [
    "#### Show the first 3 records of the third column\n",
    ">- Try doing this in three different ways"
   ]
  },
  {
   "cell_type": "code",
   "execution_count": null,
   "metadata": {},
   "outputs": [],
   "source": []
  },
  {
   "cell_type": "markdown",
   "metadata": {},
   "source": [
    "#### Show the last 3 records of the first and last columns\n",
    ">- Try doing this in three different ways"
   ]
  },
  {
   "cell_type": "code",
   "execution_count": null,
   "metadata": {},
   "outputs": [],
   "source": []
  },
  {
   "cell_type": "markdown",
   "metadata": {},
   "source": [
    "# Section 3\n",
    "## More practice and notes on selecting data\n",
    ">- `iloc` - index based selection\n",
    ">- `loc` - label based selection\n",
    "\n",
    "### Additional Source for DataFrame Methods\n",
    "\n",
    "[Docu DF Methods](https://pandas.pydata.org/pandas-docs/stable/generated/pandas.DataFrame.html)"
   ]
  },
  {
   "cell_type": "markdown",
   "metadata": {
    "slideshow": {
     "slide_type": "subslide"
    }
   },
   "source": [
    "## `.iloc[arg1, arg2]`\n",
    "\n",
    "accesses data by row and column  (i stands for integer)\n",
    "\n",
    "`arg1`: row number\n",
    "\n",
    "`arg2`: column number\n",
    "\n",
    "first row has index 0 <br>\n",
    "first column has index 0 <br>\n",
    "index column is always shown (not included in column count)\n"
   ]
  },
  {
   "cell_type": "markdown",
   "metadata": {},
   "source": [
    "### First, let's remind ourselves what the `stu` DataFrame looks like\n",
    ">- Show the first five records of the `stu` DataFrame"
   ]
  },
  {
   "cell_type": "code",
   "execution_count": 16,
   "metadata": {},
   "outputs": [
    {
     "data": {
      "text/html": [
       "<div>\n",
       "<style scoped>\n",
       "    .dataframe tbody tr th:only-of-type {\n",
       "        vertical-align: middle;\n",
       "    }\n",
       "\n",
       "    .dataframe tbody tr th {\n",
       "        vertical-align: top;\n",
       "    }\n",
       "\n",
       "    .dataframe thead th {\n",
       "        text-align: right;\n",
       "    }\n",
       "</style>\n",
       "<table border=\"1\" class=\"dataframe\">\n",
       "  <thead>\n",
       "    <tr style=\"text-align: right;\">\n",
       "      <th></th>\n",
       "      <th>studentID</th>\n",
       "      <th>firstName</th>\n",
       "      <th>lastName</th>\n",
       "      <th>birthdate</th>\n",
       "      <th>Points</th>\n",
       "    </tr>\n",
       "  </thead>\n",
       "  <tbody>\n",
       "    <tr>\n",
       "      <th>0</th>\n",
       "      <td>1</td>\n",
       "      <td>Amy</td>\n",
       "      <td>Willis</td>\n",
       "      <td>10/23/1991</td>\n",
       "      <td>18.032651</td>\n",
       "    </tr>\n",
       "    <tr>\n",
       "      <th>1</th>\n",
       "      <td>2</td>\n",
       "      <td>Donald</td>\n",
       "      <td>Pierce</td>\n",
       "      <td>4/7/1990</td>\n",
       "      <td>79.671554</td>\n",
       "    </tr>\n",
       "    <tr>\n",
       "      <th>2</th>\n",
       "      <td>3</td>\n",
       "      <td>Adam</td>\n",
       "      <td>Holmes</td>\n",
       "      <td>5/16/1991</td>\n",
       "      <td>10.495381</td>\n",
       "    </tr>\n",
       "    <tr>\n",
       "      <th>3</th>\n",
       "      <td>4</td>\n",
       "      <td>Patrick</td>\n",
       "      <td>Payne</td>\n",
       "      <td>12/29/1990</td>\n",
       "      <td>33.449285</td>\n",
       "    </tr>\n",
       "    <tr>\n",
       "      <th>4</th>\n",
       "      <td>5</td>\n",
       "      <td>Chris</td>\n",
       "      <td>Lynch</td>\n",
       "      <td>10/3/1990</td>\n",
       "      <td>33.654615</td>\n",
       "    </tr>\n",
       "  </tbody>\n",
       "</table>\n",
       "</div>"
      ],
      "text/plain": [
       "   studentID firstName lastName   birthdate     Points\n",
       "0          1       Amy   Willis  10/23/1991  18.032651\n",
       "1          2    Donald   Pierce    4/7/1990  79.671554\n",
       "2          3      Adam   Holmes   5/16/1991  10.495381\n",
       "3          4   Patrick    Payne  12/29/1990  33.449285\n",
       "4          5     Chris    Lynch   10/3/1990  33.654615"
      ]
     },
     "execution_count": 16,
     "metadata": {},
     "output_type": "execute_result"
    }
   ],
   "source": [
    "#stu.head()\n",
    "stu[0:5]"
   ]
  },
  {
   "cell_type": "markdown",
   "metadata": {},
   "source": [
    "### Using `iloc[]`, show the first ten records of the first 2 columns of `stu`"
   ]
  },
  {
   "cell_type": "code",
   "execution_count": 22,
   "metadata": {},
   "outputs": [
    {
     "data": {
      "text/html": [
       "<div>\n",
       "<style scoped>\n",
       "    .dataframe tbody tr th:only-of-type {\n",
       "        vertical-align: middle;\n",
       "    }\n",
       "\n",
       "    .dataframe tbody tr th {\n",
       "        vertical-align: top;\n",
       "    }\n",
       "\n",
       "    .dataframe thead th {\n",
       "        text-align: right;\n",
       "    }\n",
       "</style>\n",
       "<table border=\"1\" class=\"dataframe\">\n",
       "  <thead>\n",
       "    <tr style=\"text-align: right;\">\n",
       "      <th></th>\n",
       "      <th>studentID</th>\n",
       "      <th>firstName</th>\n",
       "    </tr>\n",
       "  </thead>\n",
       "  <tbody>\n",
       "    <tr>\n",
       "      <th>0</th>\n",
       "      <td>1</td>\n",
       "      <td>Amy</td>\n",
       "    </tr>\n",
       "    <tr>\n",
       "      <th>1</th>\n",
       "      <td>2</td>\n",
       "      <td>Donald</td>\n",
       "    </tr>\n",
       "    <tr>\n",
       "      <th>2</th>\n",
       "      <td>3</td>\n",
       "      <td>Adam</td>\n",
       "    </tr>\n",
       "    <tr>\n",
       "      <th>3</th>\n",
       "      <td>4</td>\n",
       "      <td>Patrick</td>\n",
       "    </tr>\n",
       "    <tr>\n",
       "      <th>4</th>\n",
       "      <td>5</td>\n",
       "      <td>Chris</td>\n",
       "    </tr>\n",
       "    <tr>\n",
       "      <th>5</th>\n",
       "      <td>6</td>\n",
       "      <td>Clarence</td>\n",
       "    </tr>\n",
       "    <tr>\n",
       "      <th>6</th>\n",
       "      <td>7</td>\n",
       "      <td>James</td>\n",
       "    </tr>\n",
       "    <tr>\n",
       "      <th>7</th>\n",
       "      <td>8</td>\n",
       "      <td>Barbara</td>\n",
       "    </tr>\n",
       "    <tr>\n",
       "      <th>8</th>\n",
       "      <td>9</td>\n",
       "      <td>Louis</td>\n",
       "    </tr>\n",
       "    <tr>\n",
       "      <th>9</th>\n",
       "      <td>10</td>\n",
       "      <td>Dennis</td>\n",
       "    </tr>\n",
       "  </tbody>\n",
       "</table>\n",
       "</div>"
      ],
      "text/plain": [
       "   studentID firstName\n",
       "0          1       Amy\n",
       "1          2    Donald\n",
       "2          3      Adam\n",
       "3          4   Patrick\n",
       "4          5     Chris\n",
       "5          6  Clarence\n",
       "6          7     James\n",
       "7          8   Barbara\n",
       "8          9     Louis\n",
       "9         10    Dennis"
      ]
     },
     "execution_count": 22,
     "metadata": {},
     "output_type": "execute_result"
    }
   ],
   "source": [
    "stu.iloc[0:10, 0:2]"
   ]
  },
  {
   "cell_type": "markdown",
   "metadata": {
    "slideshow": {
     "slide_type": "subslide"
    }
   },
   "source": [
    "### Using `iloc[]` show rows 2-10 for the last two columns of `stu`"
   ]
  },
  {
   "cell_type": "code",
   "execution_count": 29,
   "metadata": {},
   "outputs": [
    {
     "data": {
      "text/html": [
       "<div>\n",
       "<style scoped>\n",
       "    .dataframe tbody tr th:only-of-type {\n",
       "        vertical-align: middle;\n",
       "    }\n",
       "\n",
       "    .dataframe tbody tr th {\n",
       "        vertical-align: top;\n",
       "    }\n",
       "\n",
       "    .dataframe thead th {\n",
       "        text-align: right;\n",
       "    }\n",
       "</style>\n",
       "<table border=\"1\" class=\"dataframe\">\n",
       "  <thead>\n",
       "    <tr style=\"text-align: right;\">\n",
       "      <th></th>\n",
       "      <th>birthdate</th>\n",
       "      <th>Points</th>\n",
       "    </tr>\n",
       "  </thead>\n",
       "  <tbody>\n",
       "    <tr>\n",
       "      <th>2</th>\n",
       "      <td>5/16/1991</td>\n",
       "      <td>10.495381</td>\n",
       "    </tr>\n",
       "    <tr>\n",
       "      <th>3</th>\n",
       "      <td>12/29/1990</td>\n",
       "      <td>33.449285</td>\n",
       "    </tr>\n",
       "    <tr>\n",
       "      <th>4</th>\n",
       "      <td>10/3/1990</td>\n",
       "      <td>33.654615</td>\n",
       "    </tr>\n",
       "    <tr>\n",
       "      <th>5</th>\n",
       "      <td>4/29/1988</td>\n",
       "      <td>79.655349</td>\n",
       "    </tr>\n",
       "    <tr>\n",
       "      <th>6</th>\n",
       "      <td>10/17/1989</td>\n",
       "      <td>8.996545</td>\n",
       "    </tr>\n",
       "    <tr>\n",
       "      <th>7</th>\n",
       "      <td>12/5/1991</td>\n",
       "      <td>60.141281</td>\n",
       "    </tr>\n",
       "    <tr>\n",
       "      <th>8</th>\n",
       "      <td>12/13/1990</td>\n",
       "      <td>58.775231</td>\n",
       "    </tr>\n",
       "    <tr>\n",
       "      <th>9</th>\n",
       "      <td>12/7/1990</td>\n",
       "      <td>29.948968</td>\n",
       "    </tr>\n",
       "    <tr>\n",
       "      <th>10</th>\n",
       "      <td>6/25/1988</td>\n",
       "      <td>8.550434</td>\n",
       "    </tr>\n",
       "  </tbody>\n",
       "</table>\n",
       "</div>"
      ],
      "text/plain": [
       "     birthdate     Points\n",
       "2    5/16/1991  10.495381\n",
       "3   12/29/1990  33.449285\n",
       "4    10/3/1990  33.654615\n",
       "5    4/29/1988  79.655349\n",
       "6   10/17/1989   8.996545\n",
       "7    12/5/1991  60.141281\n",
       "8   12/13/1990  58.775231\n",
       "9    12/7/1990  29.948968\n",
       "10   6/25/1988   8.550434"
      ]
     },
     "execution_count": 29,
     "metadata": {},
     "output_type": "execute_result"
    }
   ],
   "source": [
    "stu.set_index('studentID')\n",
    "stu.iloc[2:11, -2:]"
   ]
  },
  {
   "cell_type": "markdown",
   "metadata": {
    "slideshow": {
     "slide_type": "subslide"
    }
   },
   "source": [
    "### Using `iloc[]` show rows 85 to the end of the DataFrame for all columns"
   ]
  },
  {
   "cell_type": "code",
   "execution_count": 31,
   "metadata": {},
   "outputs": [
    {
     "data": {
      "text/html": [
       "<div>\n",
       "<style scoped>\n",
       "    .dataframe tbody tr th:only-of-type {\n",
       "        vertical-align: middle;\n",
       "    }\n",
       "\n",
       "    .dataframe tbody tr th {\n",
       "        vertical-align: top;\n",
       "    }\n",
       "\n",
       "    .dataframe thead th {\n",
       "        text-align: right;\n",
       "    }\n",
       "</style>\n",
       "<table border=\"1\" class=\"dataframe\">\n",
       "  <thead>\n",
       "    <tr style=\"text-align: right;\">\n",
       "      <th></th>\n",
       "      <th>studentID</th>\n",
       "      <th>firstName</th>\n",
       "      <th>lastName</th>\n",
       "      <th>birthdate</th>\n",
       "      <th>Points</th>\n",
       "    </tr>\n",
       "  </thead>\n",
       "  <tbody>\n",
       "    <tr>\n",
       "      <th>85</th>\n",
       "      <td>86</td>\n",
       "      <td>Charles</td>\n",
       "      <td>Martinez</td>\n",
       "      <td>4/7/1988</td>\n",
       "      <td>83.866490</td>\n",
       "    </tr>\n",
       "    <tr>\n",
       "      <th>86</th>\n",
       "      <td>87</td>\n",
       "      <td>Anthony</td>\n",
       "      <td>Baker</td>\n",
       "      <td>8/14/1989</td>\n",
       "      <td>68.802021</td>\n",
       "    </tr>\n",
       "    <tr>\n",
       "      <th>87</th>\n",
       "      <td>88</td>\n",
       "      <td>Matthew</td>\n",
       "      <td>Sims</td>\n",
       "      <td>8/14/1990</td>\n",
       "      <td>78.932542</td>\n",
       "    </tr>\n",
       "    <tr>\n",
       "      <th>88</th>\n",
       "      <td>89</td>\n",
       "      <td>Robin</td>\n",
       "      <td>Collins</td>\n",
       "      <td>9/9/1991</td>\n",
       "      <td>1.619006</td>\n",
       "    </tr>\n",
       "    <tr>\n",
       "      <th>89</th>\n",
       "      <td>90</td>\n",
       "      <td>Ann</td>\n",
       "      <td>Powell</td>\n",
       "      <td>2/27/1988</td>\n",
       "      <td>54.369955</td>\n",
       "    </tr>\n",
       "    <tr>\n",
       "      <th>90</th>\n",
       "      <td>91</td>\n",
       "      <td>Earl</td>\n",
       "      <td>Robertson</td>\n",
       "      <td>1/26/1989</td>\n",
       "      <td>45.399924</td>\n",
       "    </tr>\n",
       "    <tr>\n",
       "      <th>91</th>\n",
       "      <td>92</td>\n",
       "      <td>Helen</td>\n",
       "      <td>Morrison</td>\n",
       "      <td>5/13/1988</td>\n",
       "      <td>90.407461</td>\n",
       "    </tr>\n",
       "    <tr>\n",
       "      <th>92</th>\n",
       "      <td>93</td>\n",
       "      <td>David</td>\n",
       "      <td>Dean</td>\n",
       "      <td>9/28/1989</td>\n",
       "      <td>78.979862</td>\n",
       "    </tr>\n",
       "    <tr>\n",
       "      <th>93</th>\n",
       "      <td>94</td>\n",
       "      <td>Alice</td>\n",
       "      <td>Fox</td>\n",
       "      <td>8/14/1989</td>\n",
       "      <td>27.961554</td>\n",
       "    </tr>\n",
       "    <tr>\n",
       "      <th>94</th>\n",
       "      <td>95</td>\n",
       "      <td>Donald</td>\n",
       "      <td>Nichols</td>\n",
       "      <td>5/17/1988</td>\n",
       "      <td>71.406950</td>\n",
       "    </tr>\n",
       "    <tr>\n",
       "      <th>95</th>\n",
       "      <td>96</td>\n",
       "      <td>Matthew</td>\n",
       "      <td>Cunningham</td>\n",
       "      <td>11/5/1991</td>\n",
       "      <td>84.951415</td>\n",
       "    </tr>\n",
       "    <tr>\n",
       "      <th>96</th>\n",
       "      <td>97</td>\n",
       "      <td>Kelly</td>\n",
       "      <td>Lynch</td>\n",
       "      <td>3/18/1990</td>\n",
       "      <td>4.377005</td>\n",
       "    </tr>\n",
       "    <tr>\n",
       "      <th>97</th>\n",
       "      <td>98</td>\n",
       "      <td>Ryan</td>\n",
       "      <td>Little</td>\n",
       "      <td>12/23/1988</td>\n",
       "      <td>52.021577</td>\n",
       "    </tr>\n",
       "    <tr>\n",
       "      <th>98</th>\n",
       "      <td>99</td>\n",
       "      <td>Willie</td>\n",
       "      <td>Taylor</td>\n",
       "      <td>12/6/1989</td>\n",
       "      <td>13.154354</td>\n",
       "    </tr>\n",
       "    <tr>\n",
       "      <th>99</th>\n",
       "      <td>100</td>\n",
       "      <td>Lisa</td>\n",
       "      <td>Austin</td>\n",
       "      <td>11/17/1990</td>\n",
       "      <td>94.808464</td>\n",
       "    </tr>\n",
       "  </tbody>\n",
       "</table>\n",
       "</div>"
      ],
      "text/plain": [
       "    studentID firstName    lastName   birthdate     Points\n",
       "85         86   Charles    Martinez    4/7/1988  83.866490\n",
       "86         87   Anthony       Baker   8/14/1989  68.802021\n",
       "87         88   Matthew        Sims   8/14/1990  78.932542\n",
       "88         89     Robin     Collins    9/9/1991   1.619006\n",
       "89         90       Ann      Powell   2/27/1988  54.369955\n",
       "90         91      Earl   Robertson   1/26/1989  45.399924\n",
       "91         92     Helen    Morrison   5/13/1988  90.407461\n",
       "92         93     David        Dean   9/28/1989  78.979862\n",
       "93         94     Alice         Fox   8/14/1989  27.961554\n",
       "94         95    Donald     Nichols   5/17/1988  71.406950\n",
       "95         96   Matthew  Cunningham   11/5/1991  84.951415\n",
       "96         97     Kelly       Lynch   3/18/1990   4.377005\n",
       "97         98      Ryan      Little  12/23/1988  52.021577\n",
       "98         99    Willie      Taylor   12/6/1989  13.154354\n",
       "99        100      Lisa      Austin  11/17/1990  94.808464"
      ]
     },
     "execution_count": 31,
     "metadata": {},
     "output_type": "execute_result"
    }
   ],
   "source": [
    "stu.iloc[85:, :]"
   ]
  },
  {
   "cell_type": "markdown",
   "metadata": {
    "slideshow": {
     "slide_type": "subslide"
    }
   },
   "source": [
    "### Using `iloc[]`, show columns 2 to 4 (lastName to Points) for all records"
   ]
  },
  {
   "cell_type": "code",
   "execution_count": 34,
   "metadata": {},
   "outputs": [
    {
     "data": {
      "text/html": [
       "<div>\n",
       "<style scoped>\n",
       "    .dataframe tbody tr th:only-of-type {\n",
       "        vertical-align: middle;\n",
       "    }\n",
       "\n",
       "    .dataframe tbody tr th {\n",
       "        vertical-align: top;\n",
       "    }\n",
       "\n",
       "    .dataframe thead th {\n",
       "        text-align: right;\n",
       "    }\n",
       "</style>\n",
       "<table border=\"1\" class=\"dataframe\">\n",
       "  <thead>\n",
       "    <tr style=\"text-align: right;\">\n",
       "      <th></th>\n",
       "      <th>lastName</th>\n",
       "      <th>birthdate</th>\n",
       "      <th>Points</th>\n",
       "    </tr>\n",
       "  </thead>\n",
       "  <tbody>\n",
       "    <tr>\n",
       "      <th>0</th>\n",
       "      <td>Willis</td>\n",
       "      <td>10/23/1991</td>\n",
       "      <td>18.032651</td>\n",
       "    </tr>\n",
       "    <tr>\n",
       "      <th>1</th>\n",
       "      <td>Pierce</td>\n",
       "      <td>4/7/1990</td>\n",
       "      <td>79.671554</td>\n",
       "    </tr>\n",
       "    <tr>\n",
       "      <th>2</th>\n",
       "      <td>Holmes</td>\n",
       "      <td>5/16/1991</td>\n",
       "      <td>10.495381</td>\n",
       "    </tr>\n",
       "    <tr>\n",
       "      <th>3</th>\n",
       "      <td>Payne</td>\n",
       "      <td>12/29/1990</td>\n",
       "      <td>33.449285</td>\n",
       "    </tr>\n",
       "    <tr>\n",
       "      <th>4</th>\n",
       "      <td>Lynch</td>\n",
       "      <td>10/3/1990</td>\n",
       "      <td>33.654615</td>\n",
       "    </tr>\n",
       "    <tr>\n",
       "      <th>...</th>\n",
       "      <td>...</td>\n",
       "      <td>...</td>\n",
       "      <td>...</td>\n",
       "    </tr>\n",
       "    <tr>\n",
       "      <th>95</th>\n",
       "      <td>Cunningham</td>\n",
       "      <td>11/5/1991</td>\n",
       "      <td>84.951415</td>\n",
       "    </tr>\n",
       "    <tr>\n",
       "      <th>96</th>\n",
       "      <td>Lynch</td>\n",
       "      <td>3/18/1990</td>\n",
       "      <td>4.377005</td>\n",
       "    </tr>\n",
       "    <tr>\n",
       "      <th>97</th>\n",
       "      <td>Little</td>\n",
       "      <td>12/23/1988</td>\n",
       "      <td>52.021577</td>\n",
       "    </tr>\n",
       "    <tr>\n",
       "      <th>98</th>\n",
       "      <td>Taylor</td>\n",
       "      <td>12/6/1989</td>\n",
       "      <td>13.154354</td>\n",
       "    </tr>\n",
       "    <tr>\n",
       "      <th>99</th>\n",
       "      <td>Austin</td>\n",
       "      <td>11/17/1990</td>\n",
       "      <td>94.808464</td>\n",
       "    </tr>\n",
       "  </tbody>\n",
       "</table>\n",
       "<p>100 rows × 3 columns</p>\n",
       "</div>"
      ],
      "text/plain": [
       "      lastName   birthdate     Points\n",
       "0       Willis  10/23/1991  18.032651\n",
       "1       Pierce    4/7/1990  79.671554\n",
       "2       Holmes   5/16/1991  10.495381\n",
       "3        Payne  12/29/1990  33.449285\n",
       "4        Lynch   10/3/1990  33.654615\n",
       "..         ...         ...        ...\n",
       "95  Cunningham   11/5/1991  84.951415\n",
       "96       Lynch   3/18/1990   4.377005\n",
       "97      Little  12/23/1988  52.021577\n",
       "98      Taylor   12/6/1989  13.154354\n",
       "99      Austin  11/17/1990  94.808464\n",
       "\n",
       "[100 rows x 3 columns]"
      ]
     },
     "execution_count": 34,
     "metadata": {},
     "output_type": "execute_result"
    }
   ],
   "source": [
    "stu.iloc[: ,2:5]"
   ]
  },
  {
   "cell_type": "markdown",
   "metadata": {
    "slideshow": {
     "slide_type": "subslide"
    }
   },
   "source": [
    "### Using `iloc[]`, show rows 20 to 25, columns 1 to 2 (firstname and lastname)"
   ]
  },
  {
   "cell_type": "code",
   "execution_count": null,
   "metadata": {},
   "outputs": [],
   "source": []
  },
  {
   "cell_type": "markdown",
   "metadata": {
    "slideshow": {
     "slide_type": "subslide"
    }
   },
   "source": [
    "### Using `iloc[]`, show rows 1,5,7 and columns 1,4 (firstName and Points)"
   ]
  },
  {
   "cell_type": "code",
   "execution_count": null,
   "metadata": {},
   "outputs": [],
   "source": []
  },
  {
   "cell_type": "markdown",
   "metadata": {
    "slideshow": {
     "slide_type": "subslide"
    }
   },
   "source": [
    "## `.loc`, label-based selection\n",
    "\n",
    ">- Use index values to show specific rows\n",
    ">- Use column labels to show specific columns"
   ]
  },
  {
   "cell_type": "markdown",
   "metadata": {
    "slideshow": {
     "slide_type": "-"
    }
   },
   "source": [
    "### Using `loc` show students with student number 75-80"
   ]
  },
  {
   "cell_type": "code",
   "execution_count": 38,
   "metadata": {
    "scrolled": true
   },
   "outputs": [
    {
     "data": {
      "text/html": [
       "<div>\n",
       "<style scoped>\n",
       "    .dataframe tbody tr th:only-of-type {\n",
       "        vertical-align: middle;\n",
       "    }\n",
       "\n",
       "    .dataframe tbody tr th {\n",
       "        vertical-align: top;\n",
       "    }\n",
       "\n",
       "    .dataframe thead th {\n",
       "        text-align: right;\n",
       "    }\n",
       "</style>\n",
       "<table border=\"1\" class=\"dataframe\">\n",
       "  <thead>\n",
       "    <tr style=\"text-align: right;\">\n",
       "      <th></th>\n",
       "      <th>firstName</th>\n",
       "      <th>lastName</th>\n",
       "      <th>birthdate</th>\n",
       "      <th>Points</th>\n",
       "    </tr>\n",
       "    <tr>\n",
       "      <th>studentID</th>\n",
       "      <th></th>\n",
       "      <th></th>\n",
       "      <th></th>\n",
       "      <th></th>\n",
       "    </tr>\n",
       "  </thead>\n",
       "  <tbody>\n",
       "    <tr>\n",
       "      <th>75</th>\n",
       "      <td>Norma</td>\n",
       "      <td>Lynch</td>\n",
       "      <td>12/2/1991</td>\n",
       "      <td>46.269019</td>\n",
       "    </tr>\n",
       "    <tr>\n",
       "      <th>76</th>\n",
       "      <td>Jason</td>\n",
       "      <td>Freeman</td>\n",
       "      <td>6/1/1989</td>\n",
       "      <td>34.684327</td>\n",
       "    </tr>\n",
       "    <tr>\n",
       "      <th>77</th>\n",
       "      <td>Thomas</td>\n",
       "      <td>Lawrence</td>\n",
       "      <td>3/15/1991</td>\n",
       "      <td>90.077218</td>\n",
       "    </tr>\n",
       "    <tr>\n",
       "      <th>78</th>\n",
       "      <td>Daniel</td>\n",
       "      <td>Wallace</td>\n",
       "      <td>3/25/1991</td>\n",
       "      <td>82.183959</td>\n",
       "    </tr>\n",
       "    <tr>\n",
       "      <th>79</th>\n",
       "      <td>Charles</td>\n",
       "      <td>Austin</td>\n",
       "      <td>10/6/1990</td>\n",
       "      <td>72.173290</td>\n",
       "    </tr>\n",
       "    <tr>\n",
       "      <th>80</th>\n",
       "      <td>Brandon</td>\n",
       "      <td>Clark</td>\n",
       "      <td>11/8/1990</td>\n",
       "      <td>99.585281</td>\n",
       "    </tr>\n",
       "  </tbody>\n",
       "</table>\n",
       "</div>"
      ],
      "text/plain": [
       "          firstName  lastName  birthdate     Points\n",
       "studentID                                          \n",
       "75            Norma     Lynch  12/2/1991  46.269019\n",
       "76            Jason   Freeman   6/1/1989  34.684327\n",
       "77           Thomas  Lawrence  3/15/1991  90.077218\n",
       "78           Daniel   Wallace  3/25/1991  82.183959\n",
       "79          Charles    Austin  10/6/1990  72.173290\n",
       "80          Brandon     Clark  11/8/1990  99.585281"
      ]
     },
     "execution_count": 38,
     "metadata": {},
     "output_type": "execute_result"
    }
   ],
   "source": [
    "stu.head()\n",
    "stu.set_index('studentID',inplace=True)\n",
    "stu.loc[75:80]"
   ]
  },
  {
   "cell_type": "markdown",
   "metadata": {},
   "source": [
    "### Using `loc` show the `birthdate` of studentIds of 10-15"
   ]
  },
  {
   "cell_type": "code",
   "execution_count": null,
   "metadata": {},
   "outputs": [],
   "source": []
  },
  {
   "cell_type": "markdown",
   "metadata": {},
   "source": [
    "### Using `loc`, show the birthdate and points for student ids between 3 and 8"
   ]
  },
  {
   "cell_type": "code",
   "execution_count": null,
   "metadata": {},
   "outputs": [],
   "source": []
  },
  {
   "cell_type": "markdown",
   "metadata": {},
   "source": [
    "### Using `loc`, show the last name and points for student ids of 1, 50, and 100"
   ]
  },
  {
   "cell_type": "code",
   "execution_count": null,
   "metadata": {},
   "outputs": [],
   "source": []
  },
  {
   "cell_type": "markdown",
   "metadata": {},
   "source": [
    "# Section 4\n",
    "## Conditional Selection with `loc`"
   ]
  },
  {
   "cell_type": "markdown",
   "metadata": {
    "slideshow": {
     "slide_type": "subslide"
    }
   },
   "source": [
    "### Using `loc` show the students with point values greater than 90"
   ]
  },
  {
   "cell_type": "code",
   "execution_count": null,
   "metadata": {},
   "outputs": [],
   "source": []
  },
  {
   "cell_type": "markdown",
   "metadata": {
    "slideshow": {
     "slide_type": "-"
    }
   },
   "source": [
    "### Using `loc` show students with points between 50 and 60"
   ]
  },
  {
   "cell_type": "code",
   "execution_count": null,
   "metadata": {},
   "outputs": [],
   "source": []
  },
  {
   "cell_type": "markdown",
   "metadata": {
    "slideshow": {
     "slide_type": "subslide"
    }
   },
   "source": [
    "### Show students with points either less than 10 or greater than 90"
   ]
  },
  {
   "cell_type": "code",
   "execution_count": null,
   "metadata": {},
   "outputs": [],
   "source": []
  },
  {
   "cell_type": "markdown",
   "metadata": {},
   "source": [
    "### Find students with last name 'Holmes'"
   ]
  },
  {
   "cell_type": "code",
   "execution_count": null,
   "metadata": {},
   "outputs": [],
   "source": []
  },
  {
   "cell_type": "markdown",
   "metadata": {
    "slideshow": {
     "slide_type": "subslide"
    }
   },
   "source": [
    "### Find students whose birth date is in 1989\n",
    ">- Hint: apply `.str.endswith()` when accessing the `birthdate` column\n",
    ">>- Check the data type of the birthdate field to understand why we can use a string method on a date"
   ]
  },
  {
   "cell_type": "code",
   "execution_count": null,
   "metadata": {},
   "outputs": [],
   "source": []
  },
  {
   "cell_type": "markdown",
   "metadata": {
    "slideshow": {
     "slide_type": "subslide"
    }
   },
   "source": [
    "### Find students whose first name starts with 'A'"
   ]
  },
  {
   "cell_type": "code",
   "execution_count": null,
   "metadata": {},
   "outputs": [],
   "source": []
  },
  {
   "cell_type": "markdown",
   "metadata": {
    "slideshow": {
     "slide_type": "subslide"
    }
   },
   "source": [
    "### Find students whose `lastName` starts with 'C' that have 90 or more `Points`"
   ]
  },
  {
   "cell_type": "code",
   "execution_count": null,
   "metadata": {
    "scrolled": true
   },
   "outputs": [],
   "source": []
  },
  {
   "cell_type": "markdown",
   "metadata": {},
   "source": [
    "### Find students whose `lastName` starts with 'C' or 'B' with 80 or more `Points`"
   ]
  },
  {
   "cell_type": "code",
   "execution_count": null,
   "metadata": {
    "scrolled": true
   },
   "outputs": [],
   "source": []
  }
 ],
 "metadata": {
  "kernelspec": {
   "display_name": "Python 3 (ipykernel)",
   "language": "python",
   "name": "python3"
  },
  "language_info": {
   "codemirror_mode": {
    "name": "ipython",
    "version": 3
   },
   "file_extension": ".py",
   "mimetype": "text/x-python",
   "name": "python",
   "nbconvert_exporter": "python",
   "pygments_lexer": "ipython3",
   "version": "3.8.12"
  },
  "toc": {
   "nav_menu": {
    "height": "207px",
    "width": "253px"
   },
   "number_sections": true,
   "sideBar": true,
   "skip_h1_title": false,
   "toc_cell": false,
   "toc_position": {
    "height": "600px",
    "left": "0px",
    "right": "831.286px",
    "top": "67px",
    "width": "288px"
   },
   "toc_section_display": "block",
   "toc_window_display": true
  }
 },
 "nbformat": 4,
 "nbformat_minor": 4
}
